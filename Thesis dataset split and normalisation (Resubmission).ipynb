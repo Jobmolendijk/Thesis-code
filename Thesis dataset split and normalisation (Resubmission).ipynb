{
 "cells": [
  {
   "cell_type": "code",
   "execution_count": 34,
   "id": "af17e2e9",
   "metadata": {},
   "outputs": [],
   "source": [
    "import pandas as pd\n",
    "import numpy as np\n",
    "import scipy.integrate\n",
    "import scipy.special\n",
    "from scipy.special import inv_boxcox\n",
    "from scipy import stats\n",
    "import seaborn as sns\n",
    "from scipy.stats import lognorm\n",
    "import matplotlib.pyplot as plt\n",
    "import pylab\n",
    "from sklearn.preprocessing import MinMaxScaler\n",
    "from sklearn.preprocessing import OrdinalEncoder\n",
    "from matplotlib.ticker import PercentFormatter\n",
    "from scipy.stats import boxcox"
   ]
  },
  {
   "cell_type": "code",
   "execution_count": 2,
   "id": "8a57575c",
   "metadata": {},
   "outputs": [],
   "source": [
    "pd.set_option('display.max_rows', 500)"
   ]
  },
  {
   "cell_type": "markdown",
   "id": "f9fa9fc9",
   "metadata": {},
   "source": [
    "&nbsp;\n"
   ]
  },
  {
   "cell_type": "markdown",
   "id": "82686340",
   "metadata": {},
   "source": [
    "&nbsp;\n"
   ]
  },
  {
   "cell_type": "markdown",
   "id": "c74eefc9",
   "metadata": {},
   "source": [
    "# Reading in Data"
   ]
  },
  {
   "cell_type": "code",
   "execution_count": 3,
   "id": "0b2f984f",
   "metadata": {},
   "outputs": [],
   "source": [
    "finaldataset = pd.read_csv(\"../Downloads/finaldataset.csv\")"
   ]
  },
  {
   "cell_type": "code",
   "execution_count": 4,
   "id": "3f81f622",
   "metadata": {},
   "outputs": [],
   "source": [
    "finaldataset.drop(['Unnamed: 0'], axis=1, inplace=True)"
   ]
  },
  {
   "cell_type": "code",
   "execution_count": 5,
   "id": "7cf2d440",
   "metadata": {},
   "outputs": [
    {
     "data": {
      "text/plain": [
       "(18917, 102)"
      ]
     },
     "execution_count": 5,
     "metadata": {},
     "output_type": "execute_result"
    }
   ],
   "source": [
    "finaldataset.shape"
   ]
  },
  {
   "cell_type": "markdown",
   "id": "1f8e8034",
   "metadata": {},
   "source": [
    "&nbsp;\n"
   ]
  },
  {
   "cell_type": "markdown",
   "id": "2d911920",
   "metadata": {},
   "source": [
    "__change features to categorical__"
   ]
  },
  {
   "cell_type": "code",
   "execution_count": 6,
   "id": "069e7378",
   "metadata": {},
   "outputs": [],
   "source": [
    "category_columns = ['sex', 'income', 'entrepreneur_freelancer', \n",
    "                     'entrepreneur_freelancer_alongside', 'one_person_business', 'income', \n",
    "                     'company_owner', 'partnership', 'partner_partnership', \n",
    "                     'private_limited_liability_company', 'other', 'none_work_situation', \n",
    "                     'early_retirement', 'zorgtoeslag', 'Ziektewetuitkering', \n",
    "                     'ANW', 'nabestaandenpensioen', 'orphan_pension', 'bijstand', \n",
    "                     'bijstand_zelfstandigen', 'IOAWIOAZ', 'WGA', 'invadility_pension', \n",
    "                     'kinderbijslag', 'none_benefit', 'income_realestate', 'student_grant', \n",
    "                     'student_loan', 'alimony_ex', 'alimony_children', 'study_allowance_parents', \n",
    "                     'allowence_family', 'dividend_stock_investment', 'interests', \n",
    "                     'none_sources', 'interest_loans', 'alimony_ex_paid', 'alimony_children_paid',\n",
    "                     'parental_support_paid', 'parental_support_paid_other', 'support_gift_paid', \n",
    "                     'big_purchase', 'no_arrears', 'rent_mortgage_arrears',  \n",
    "                     'general_utilities_arrear', 'other_arrears', 'months_arrears_rent', \n",
    "                     'months_arrears_general_utilities', 'partyvote', 'age_2', 'satisfaction_individual_2', \n",
    "                     'satisfaction_national_2', 'income_2', \n",
    "                     'gross_wages_amount_2', 'entrepreneur_freelancer_2', \n",
    "                     'entrepreneur_freelancer_alongside_2', 'one_person_business_2', \n",
    "                     'company_owner_2', 'partnership_2', 'partner_partnership_2', \n",
    "                     'private_limited_liability_company_2', 'other_2', 'none_work_situation_2', \n",
    "                     'zorgtoeslag_2', 'Ziektewetuitkering_2', \n",
    "                     'ANW_2', 'nabestaandenpensioen_2', 'bijstand_2', \n",
    "                     'bijstand_zelfstandigen_2', 'IOAWIOAZ_2', 'WGA_2', 'invadility_pension_2', \n",
    "                     'kinderbijslag_2', 'none_benefit_2', 'income_realestate_2', 'realestate_amount_2', 'student_grant_2', \n",
    "                     'amount_student_grant_2', 'student_loan_2', 'amount_student_loan_2', 'alimony_ex_2', \n",
    "                     'amount_alimony_ex_2', \n",
    "                     'alimony_children_2', 'amount_alimony_children_2', 'study_allowance_parents_2', \n",
    "                     'amount_study_allowance_parents_2', \n",
    "                     'allowence_family_2', 'amount_allowance_family_2', 'dividend_stock_investment_2', \n",
    "                     'amount_dividend_stock_investment_2',\n",
    "                     'interests_2', 'amount_interests_2', \n",
    "                     'none_sources_2', 'interest_loans_2', 'amount_interest_loans_2', 'parental_support_paid_other_2', \n",
    "                     'support_gift_paid_2', 'amount_support_gift_paid_2',\n",
    "                     'taxable_income_2', 'net_income_household_2', 'financial_situation_grade_2', \n",
    "                     'difficulty_life_grade_2', 'financial_situation_category_2', 'household_expenditure_2', \n",
    "                     'big_purchase_2', 'financial_situation_future_2', 'no_arrears_2', \n",
    "                     'rent_mortgage_arrears_2', 'amount_rent_mortgage_arrears_2', 'general_utilities_arrear_2', \n",
    "                     'amount_general_utilities_arrear_2',  \n",
    "                     'other_arrears_2', 'amount_other_arrears_2', 'months_arrears_rent_2', \n",
    "                     'months_arrears_general_utilities_2']"
   ]
  },
  {
   "cell_type": "markdown",
   "id": "0896307b",
   "metadata": {},
   "source": [
    "&nbsp;\n"
   ]
  },
  {
   "cell_type": "code",
   "execution_count": 7,
   "id": "1eef232b",
   "metadata": {},
   "outputs": [],
   "source": [
    "for col in finaldataset.columns:\n",
    "    for i in category_columns:\n",
    "        if col == i:\n",
    "            finaldataset[col] = finaldataset[col].astype('category')"
   ]
  },
  {
   "cell_type": "code",
   "execution_count": 8,
   "id": "4243cb2d",
   "metadata": {
    "scrolled": true
   },
   "outputs": [
    {
     "data": {
      "text/plain": [
       "date                                    float64\n",
       "sex                                    category\n",
       "age                                     float64\n",
       "satisfaction_individual                   int64\n",
       "satisfaction_individual_2              category\n",
       "satisfaction_national                     int64\n",
       "satisfaction_national_2                category\n",
       "income                                 category\n",
       "income_2                               category\n",
       "entrepreneur_freelancer                category\n",
       "entrepreneur_freelancer_2              category\n",
       "entrepreneur_freelancer_alongside      category\n",
       "entrepreneur_freelancer_alongside_2    category\n",
       "one_person_business                    category\n",
       "one_person_business_2                  category\n",
       "company_owner                          category\n",
       "company_owner_2                        category\n",
       "partnership                            category\n",
       "partnership_2                          category\n",
       "partner_partnership                    category\n",
       "partner_partnership_2                  category\n",
       "private_limited_liability_company      category\n",
       "private_limited_liability_company_2    category\n",
       "other                                  category\n",
       "other_2                                category\n",
       "none_work_situation                    category\n",
       "none_work_situation_2                  category\n",
       "zorgtoeslag                            category\n",
       "zorgtoeslag_2                          category\n",
       "Ziektewetuitkering                     category\n",
       "Ziektewetuitkering_2                   category\n",
       "ANW                                    category\n",
       "ANW_2                                  category\n",
       "nabestaandenpensioen                   category\n",
       "nabestaandenpensioen_2                 category\n",
       "bijstand                               category\n",
       "bijstand_2                             category\n",
       "bijstand_zelfstandigen                 category\n",
       "bijstand_zelfstandigen_2               category\n",
       "IOAWIOAZ                               category\n",
       "IOAWIOAZ_2                             category\n",
       "WGA                                    category\n",
       "WGA_2                                  category\n",
       "invadility_pension                     category\n",
       "invadility_pension_2                   category\n",
       "kinderbijslag                          category\n",
       "kinderbijslag_2                        category\n",
       "none_benefit                           category\n",
       "none_benefit_2                         category\n",
       "income_realestate                      category\n",
       "income_realestate_2                    category\n",
       "student_grant                          category\n",
       "student_grant_2                        category\n",
       "student_loan                           category\n",
       "student_loan_2                         category\n",
       "alimony_ex                             category\n",
       "alimony_ex_2                           category\n",
       "alimony_children                       category\n",
       "alimony_children_2                     category\n",
       "study_allowance_parents                category\n",
       "study_allowance_parents_2              category\n",
       "allowence_family                       category\n",
       "allowence_family_2                     category\n",
       "dividend_stock_investment              category\n",
       "dividend_stock_investment_2            category\n",
       "interests                              category\n",
       "interests_2                            category\n",
       "none_sources                           category\n",
       "none_sources_2                         category\n",
       "interest_loans                         category\n",
       "interest_loans_2                       category\n",
       "support_gift_paid                      category\n",
       "support_gift_paid_2                    category\n",
       "taxable_income                          float64\n",
       "taxable_income_2                       category\n",
       "net_income_household                    float64\n",
       "net_income_household_2                 category\n",
       "financial_situation_grade                 int64\n",
       "financial_situation_grade_2            category\n",
       "difficulty_life_grade                     int64\n",
       "difficulty_life_grade_2                category\n",
       "financial_situation_category              int64\n",
       "financial_situation_category_2         category\n",
       "household_expenditure                     int64\n",
       "household_expenditure_2                category\n",
       "big_purchase                           category\n",
       "big_purchase_2                         category\n",
       "financial_situation_future                int64\n",
       "financial_situation_future_2           category\n",
       "no_arrears                             category\n",
       "no_arrears_2                           category\n",
       "rent_mortgage_arrears                  category\n",
       "rent_mortgage_arrears_2                category\n",
       "general_utilities_arrear               category\n",
       "general_utilities_arrear_2             category\n",
       "other_arrears                          category\n",
       "other_arrears_2                        category\n",
       "months_arrears_rent                    category\n",
       "months_arrears_rent_2                  category\n",
       "months_arrears_general_utilities       category\n",
       "months_arrears_general_utilities_2     category\n",
       "partyvote                              category\n",
       "dtype: object"
      ]
     },
     "execution_count": 8,
     "metadata": {},
     "output_type": "execute_result"
    }
   ],
   "source": [
    "finaldataset.dtypes"
   ]
  },
  {
   "cell_type": "markdown",
   "id": "b7782193",
   "metadata": {},
   "source": [
    "&nbsp;\n"
   ]
  },
  {
   "cell_type": "markdown",
   "id": "a0a00124",
   "metadata": {},
   "source": [
    "&nbsp;\n"
   ]
  },
  {
   "cell_type": "markdown",
   "id": "277d2df4",
   "metadata": {},
   "source": [
    "# Split into train/validation and test set"
   ]
  },
  {
   "cell_type": "code",
   "execution_count": 9,
   "id": "dc15c539",
   "metadata": {},
   "outputs": [],
   "source": [
    "test_set = finaldataset.loc[finaldataset.date > 202105, :].copy()\n",
    "train_set = finaldataset.loc[finaldataset.date < 202105, :].copy()"
   ]
  },
  {
   "cell_type": "code",
   "execution_count": 10,
   "id": "73100be4",
   "metadata": {},
   "outputs": [
    {
     "name": "stdout",
     "output_type": "stream",
     "text": [
      "(15200, 102)\n",
      "(3717, 102)\n"
     ]
    }
   ],
   "source": [
    "print(train_set.shape)\n",
    "print(test_set.shape)"
   ]
  },
  {
   "cell_type": "code",
   "execution_count": 11,
   "id": "695badd0",
   "metadata": {},
   "outputs": [
    {
     "data": {
      "text/plain": [
       "VVD      20.184211\n",
       "PvdA     18.361842\n",
       "CDA      15.532895\n",
       "SP       12.322368\n",
       "PVV       8.414474\n",
       "D66       8.032895\n",
       "GL        6.440789\n",
       "CU        3.842105\n",
       "other     2.750000\n",
       "PvdD      1.973684\n",
       "SGP       1.750000\n",
       "blank     0.394737\n",
       "Name: partyvote, dtype: float64"
      ]
     },
     "execution_count": 11,
     "metadata": {},
     "output_type": "execute_result"
    }
   ],
   "source": [
    "train_set['partyvote'].value_counts(normalize=True) * 100"
   ]
  },
  {
   "cell_type": "code",
   "execution_count": 12,
   "id": "c71bf447",
   "metadata": {
    "scrolled": true
   },
   "outputs": [
    {
     "data": {
      "text/plain": [
       "VVD      21.011568\n",
       "D66      15.657789\n",
       "other    13.101964\n",
       "CDA      10.196395\n",
       "PvdA      8.797417\n",
       "PVV       8.097928\n",
       "SP        6.994888\n",
       "GL        5.891848\n",
       "PvdD      4.627388\n",
       "CU        3.766478\n",
       "SGP       1.506591\n",
       "blank     0.349744\n",
       "Name: partyvote, dtype: float64"
      ]
     },
     "execution_count": 12,
     "metadata": {},
     "output_type": "execute_result"
    }
   ],
   "source": [
    "test_set['partyvote'].value_counts(normalize=True) * 100"
   ]
  },
  {
   "cell_type": "code",
   "execution_count": 35,
   "id": "2ae1a0c0",
   "metadata": {},
   "outputs": [
    {
     "data": {
      "image/png": "[encoded data removed]",
      "text/plain": [
       "<Figure size 1000x500 with 1 Axes>"
      ]
     },
     "metadata": {},
     "output_type": "display_data"
    }
   ],
   "source": [
    "features = ['VVD', 'D66', 'Other', 'CDA', 'PvdA', 'PVV', 'SP', 'GL', 'PvdD', 'CU', 'SGP', 'Blank']\n",
    "proportions_1 = [20.18, 8.03, 2.75, 15.53, 18.36, 8.41, 12.32, 6.44, 1.97, 3.84, 1.75, 0.39]\n",
    "\n",
    "proportions_2 = [21.01, 15.65, 13.10, 10.19, 8.79, 8.09, 6.99, 5.89, 4.62, 3.76, 1.50, 0.34]\n",
    "\n",
    "fig, ax = plt.subplots(figsize=(10,5))\n",
    "width = 0.4\n",
    "x = np.arange(len(features))\n",
    "rects1 = ax.bar(x - width/2, proportions_1, width, color='blue', label='Train', alpha=0.4)\n",
    "rects2 = ax.bar(x + width/2, proportions_2, width, color='red', label='Test', alpha=0.4)\n",
    "ax.set_ylim(0, 25)\n",
    "\n",
    "ax.set_xticks(x)\n",
    "ax.set_xticklabels(features)\n",
    "ax.spines['top'].set_visible(True)\n",
    "\n",
    "ax.set_xlabel('Parties')\n",
    "ax.set_ylabel('%')\n",
    "\n",
    "ax.legend()\n",
    "\n",
    "for rect in rects1:\n",
    "    height = rect.get_height()\n",
    "    ax.text(rect.get_x() + rect.get_width()/2., 1.05*height, '%.1f' % height,\n",
    "            ha='center', va='bottom', fontsize=8.5)\n",
    "\n",
    "for rect in rects2:\n",
    "    height = rect.get_height()\n",
    "    ax.text(rect.get_x() + rect.get_width()/2., 1.05*height, '%.1f' % height,\n",
    "            ha='center', va='bottom', fontsize=8.5)\n",
    "\n",
    "plt.show()"
   ]
  },
  {
   "cell_type": "code",
   "execution_count": 13,
   "id": "757a424f",
   "metadata": {},
   "outputs": [
    {
     "data": {
      "image/png": "[encoded data removed]",
      "text/plain": [
       "<Figure size 640x480 with 1 Axes>"
      ]
     },
     "metadata": {},
     "output_type": "display_data"
    }
   ],
   "source": [
    "fig, ax = plt.subplots()\n",
    "\n",
    "ax.hist([train_set['partyvote'], test_set['partyvote']], alpha=0.6, label=['Train', 'Test'], stacked=False, bins = 23, density=True)\n",
    "\n",
    "ax.legend()\n",
    "ax.set_title('Histogram of Two Categorical Variables')\n",
    "\n",
    "plt.show()"
   ]
  },
  {
   "cell_type": "markdown",
   "id": "28d3e632",
   "metadata": {},
   "source": [
    "&nbsp;\n"
   ]
  },
  {
   "cell_type": "markdown",
   "id": "7ed779b5",
   "metadata": {},
   "source": [
    "&nbsp;\n"
   ]
  },
  {
   "cell_type": "markdown",
   "id": "9a371dba",
   "metadata": {},
   "source": [
    "__calculate percentages of train and test split__"
   ]
  },
  {
   "cell_type": "code",
   "execution_count": 14,
   "id": "b4afa12f",
   "metadata": {},
   "outputs": [
    {
     "name": "stdout",
     "output_type": "stream",
     "text": [
      "80.35100703071312\n",
      "19.648992969286887\n"
     ]
    }
   ],
   "source": [
    "print(len(train_set.index)/len(finaldataset.index)*100)\n",
    "print(len(test_set.index)/len(finaldataset.index)*100)"
   ]
  },
  {
   "cell_type": "markdown",
   "id": "87c221c1",
   "metadata": {},
   "source": [
    "&nbsp;\n"
   ]
  },
  {
   "cell_type": "markdown",
   "id": "4ba63738",
   "metadata": {},
   "source": [
    "&nbsp;"
   ]
  },
  {
   "cell_type": "markdown",
   "id": "7949de5e",
   "metadata": {},
   "source": [
    "# Box-Cox continuous non-normal variables"
   ]
  },
  {
   "cell_type": "markdown",
   "id": "37ec052e",
   "metadata": {},
   "source": [
    "&nbsp;"
   ]
  },
  {
   "cell_type": "code",
   "execution_count": 15,
   "id": "2987b4e1",
   "metadata": {},
   "outputs": [
    {
     "data": {
      "image/png": "[encoded data removed]",
      "text/plain": [
       "<Figure size 640x480 with 1 Axes>"
      ]
     },
     "metadata": {},
     "output_type": "display_data"
    }
   ],
   "source": [
    "cols1 = train_set[['taxable_income', 'net_income_household']]\n",
    "cols2 = test_set[['taxable_income', 'net_income_household']]\n",
    "\n",
    "df = pd.concat([cols1, cols2], axis=1)\n",
    "\n",
    "sns.kdeplot(df)\n",
    "\n",
    "plt.show()"
   ]
  },
  {
   "cell_type": "code",
   "execution_count": 16,
   "id": "df454ccd",
   "metadata": {},
   "outputs": [],
   "source": [
    "cols1 = cols1.rename(columns={'taxable_income':'taxable_income train','net_income_household':'net_income_household train'})\n",
    "cols2 = cols2.rename(columns={'taxable_income':'taxable_income test','net_income_household':'net_income_household test'})"
   ]
  },
  {
   "cell_type": "code",
   "execution_count": 17,
   "id": "54b51f34",
   "metadata": {},
   "outputs": [
    {
     "data": {
      "image/png": "[encoded data removed]",
      "text/plain": [
       "<Figure size 640x480 with 1 Axes>"
      ]
     },
     "metadata": {},
     "output_type": "display_data"
    }
   ],
   "source": [
    "df = pd.concat([cols1, cols2], axis=1)\n",
    "\n",
    "sns.kdeplot(df, bw_adjust=20)\n",
    "\n",
    "plt.show()"
   ]
  },
  {
   "cell_type": "code",
   "execution_count": 18,
   "id": "b1a80d99",
   "metadata": {},
   "outputs": [
    {
     "data": {
      "image/png": "[encoded data removed]",
      "text/plain": [
       "<Figure size 650x490 with 1 Axes>"
      ]
     },
     "metadata": {},
     "output_type": "display_data"
    }
   ],
   "source": [
    "medianprops = {'color': 'red'}\n",
    "boxprops = {'color': 'black'}\n",
    "whiskerprops = {'color': 'black'}\n",
    "capprops = {'color': 'black'}\n",
    "flierprops = {'color': 'black', 'marker': 'D'}\n",
    "\n",
    "data = [train_set['taxable_income'], test_set['taxable_income'], train_set['net_income_household'], test_set['net_income_household']]\n",
    "labels = ['taxable_income train', 'taxable_income test', 'net_income_household train', 'net_income_household test']\n",
    "\n",
    "fig = plt.figure(figsize=(6.5, 4.9))\n",
    "ax = fig.add_subplot(111)\n",
    "\n",
    "bp = ax.boxplot(data, labels=labels, patch_artist=True, medianprops=medianprops, \n",
    "                boxprops=boxprops, whiskerprops=whiskerprops, capprops=capprops,\n",
    "                flierprops=flierprops)\n",
    "plt.xticks(rotation=45)\n",
    "\n",
    "colors = ['#0000FF', '#00FF00', '#FFFF00', '#FF00FF']\n",
    "for patch, color in zip(bp['boxes'], colors):\n",
    "    patch.set_facecolor(color)\n",
    "\n",
    "ax.set_xlabel('Feature', fontsize=12)\n",
    "ax.set_ylabel('Value', fontsize=12)\n",
    "\n",
    "plt.show()"
   ]
  },
  {
   "cell_type": "code",
   "execution_count": 19,
   "id": "3f5fc94a",
   "metadata": {},
   "outputs": [
    {
     "data": {
      "text/plain": [
       "6132     100000000.0\n",
       "5323      99999999.0\n",
       "17702     99999999.0\n",
       "4203       2358300.0\n",
       "12394      2358300.0\n",
       "13010      2358300.0\n",
       "13437      2358300.0\n",
       "17196      2358300.0\n",
       "4744       1781300.0\n",
       "5771       1781300.0\n",
       "7347       1781300.0\n",
       "9582       1781300.0\n",
       "13691      1781300.0\n",
       "14241      1781300.0\n",
       "15001      1781300.0\n",
       "15882      1781300.0\n",
       "18284      1781300.0\n",
       "12680      1317300.0\n",
       "12743      1317300.0\n",
       "11607      1204200.0\n",
       "Name: taxable_income, dtype: float64"
      ]
     },
     "execution_count": 19,
     "metadata": {},
     "output_type": "execute_result"
    }
   ],
   "source": [
    "train_set['taxable_income'].nlargest(n=20)"
   ]
  },
  {
   "cell_type": "code",
   "execution_count": 20,
   "id": "08db8135",
   "metadata": {},
   "outputs": [
    {
     "data": {
      "text/plain": [
       "2808    2358300.0\n",
       "1329    2008000.0\n",
       "3078    2008000.0\n",
       "872      600000.0\n",
       "3513     541000.0\n",
       "2125     485667.0\n",
       "3169     485667.0\n",
       "403      325000.0\n",
       "1757     300070.0\n",
       "2351     281040.0\n",
       "3127     279000.0\n",
       "1207     262000.0\n",
       "2536     250000.0\n",
       "719      241917.0\n",
       "2934     240000.0\n",
       "3533     240000.0\n",
       "156      231869.0\n",
       "3536     230000.0\n",
       "2983     217937.0\n",
       "3640     216000.0\n",
       "Name: taxable_income, dtype: float64"
      ]
     },
     "execution_count": 20,
     "metadata": {},
     "output_type": "execute_result"
    }
   ],
   "source": [
    "test_set['taxable_income'].nlargest(n=20)"
   ]
  },
  {
   "cell_type": "code",
   "execution_count": 21,
   "id": "f4590269",
   "metadata": {},
   "outputs": [
    {
     "data": {
      "text/plain": [
       "7080     6000000.0\n",
       "16992    3052816.0\n",
       "11607    2709400.0\n",
       "8235     2375150.0\n",
       "15001    2375150.0\n",
       "7347     2140600.0\n",
       "12743    2140600.0\n",
       "15953    2140600.0\n",
       "18664    2140600.0\n",
       "9582     2137065.0\n",
       "11699    2137065.0\n",
       "13080    2137065.0\n",
       "13556    2137065.0\n",
       "17196    2137065.0\n",
       "18284    2137065.0\n",
       "3844     1936260.0\n",
       "5771     1936260.0\n",
       "6137     1936260.0\n",
       "12394    1936260.0\n",
       "12680    1936260.0\n",
       "Name: net_income_household, dtype: float64"
      ]
     },
     "execution_count": 21,
     "metadata": {},
     "output_type": "execute_result"
    }
   ],
   "source": [
    "train_set['net_income_household'].nlargest(n=20)"
   ]
  },
  {
   "cell_type": "code",
   "execution_count": 22,
   "id": "467002e4",
   "metadata": {},
   "outputs": [
    {
     "data": {
      "text/plain": [
       "3078    2375150.0\n",
       "403      980000.0\n",
       "3299     980000.0\n",
       "647      540000.0\n",
       "1614     500000.0\n",
       "2997     500000.0\n",
       "3169     500000.0\n",
       "1819     333769.0\n",
       "437      300000.0\n",
       "1530     299770.0\n",
       "2608     294684.0\n",
       "2934     269524.0\n",
       "3339     265000.0\n",
       "555      264000.0\n",
       "854      250000.0\n",
       "1329     250000.0\n",
       "3446     240000.0\n",
       "227      233000.0\n",
       "3533     233000.0\n",
       "581      232135.0\n",
       "Name: net_income_household, dtype: float64"
      ]
     },
     "execution_count": 22,
     "metadata": {},
     "output_type": "execute_result"
    }
   ],
   "source": [
    "test_set['net_income_household'].nlargest(n=20)"
   ]
  },
  {
   "cell_type": "markdown",
   "id": "4c7f6683",
   "metadata": {},
   "source": [
    "&nbsp;"
   ]
  },
  {
   "cell_type": "markdown",
   "id": "7106b04e",
   "metadata": {},
   "source": [
    "__have to add constant to the value, because box-cox does not handle negative values__"
   ]
  },
  {
   "cell_type": "code",
   "execution_count": 23,
   "id": "69758c45",
   "metadata": {},
   "outputs": [],
   "source": [
    "min_train_tax = min(train_set['taxable_income'])\n",
    "min_test_tax = min(test_set['taxable_income'])\n",
    "\n",
    "min_train_house = min(train_set['net_income_household'])\n",
    "min_test_house = min(test_set['net_income_household'])"
   ]
  },
  {
   "cell_type": "code",
   "execution_count": 24,
   "id": "70725480",
   "metadata": {},
   "outputs": [],
   "source": [
    "train_set['taxable_income'] = train_set['taxable_income'] - min_train_tax + 1 \n",
    "test_set['taxable_income'] = test_set['taxable_income'] - min_test_tax + 1\n",
    "\n",
    "train_set['net_income_household'] = train_set['net_income_household'] - min_train_house + 1 \n",
    "test_set['net_income_household'] = test_set['net_income_household'] - min_test_house + 1"
   ]
  },
  {
   "cell_type": "markdown",
   "id": "1fe301bb",
   "metadata": {},
   "source": [
    "&nbsp;"
   ]
  },
  {
   "cell_type": "code",
   "execution_count": 25,
   "id": "323126fc",
   "metadata": {},
   "outputs": [],
   "source": [
    "cols = ['taxable_income', 'net_income_household']\n",
    "\n",
    "lambda_vals = {}\n",
    "for col in cols:\n",
    "    train_set[col], lambda_val = boxcox(train_set[col])\n",
    "    test_set[col] = boxcox(test_set[col], lmbda=lambda_val)\n",
    "    lambda_vals[col] = lambda_val"
   ]
  },
  {
   "cell_type": "code",
   "execution_count": 26,
   "id": "66d5075b",
   "metadata": {},
   "outputs": [],
   "source": []
  },
  {
   "cell_type": "markdown",
   "id": "e047b89f",
   "metadata": {},
   "source": [
    "&nbsp;"
   ]
  },
  {
   "cell_type": "markdown",
   "id": "044c9955",
   "metadata": {},
   "source": [
    "__Lambda value (power to which data raised)__"
   ]
  },
  {
   "cell_type": "code",
   "execution_count": 27,
   "id": "d7cfc95b",
   "metadata": {},
   "outputs": [
    {
     "name": "stdout",
     "output_type": "stream",
     "text": [
      "{'taxable_income': -0.034398270588177376, 'net_income_household': 0.045581457795245264}\n"
     ]
    }
   ],
   "source": [
    "print(lambda_vals)"
   ]
  },
  {
   "cell_type": "code",
   "execution_count": 28,
   "id": "0d22b1e2",
   "metadata": {},
   "outputs": [],
   "source": []
  },
  {
   "cell_type": "markdown",
   "id": "b5f4d492",
   "metadata": {},
   "source": [
    "&nbsp;"
   ]
  },
  {
   "cell_type": "markdown",
   "id": "5f1c9c05",
   "metadata": {},
   "source": [
    "__apply to variables__"
   ]
  },
  {
   "cell_type": "code",
   "execution_count": 29,
   "id": "7af598e3",
   "metadata": {},
   "outputs": [],
   "source": []
  },
  {
   "cell_type": "markdown",
   "id": "72049314",
   "metadata": {},
   "source": [
    "&nbsp;"
   ]
  },
  {
   "cell_type": "markdown",
   "id": "9b70f543",
   "metadata": {},
   "source": [
    "__New distribution__"
   ]
  },
  {
   "cell_type": "code",
   "execution_count": 30,
   "id": "4b6b77ab",
   "metadata": {},
   "outputs": [
    {
     "data": {
      "image/png": "[encoded data removed]",
      "text/plain": [
       "<Figure size 640x480 with 1 Axes>"
      ]
     },
     "metadata": {},
     "output_type": "display_data"
    }
   ],
   "source": [
    "cols3 = train_set[['taxable_income', 'net_income_household']]\n",
    "cols4 = test_set[['taxable_income', 'net_income_household']]\n",
    "\n",
    "cols3 = cols3.rename(columns={'taxable_income':'taxable_income train','net_income_household':'net_income_household train'})\n",
    "cols4 = cols4.rename(columns={'taxable_income':'taxable_income test','net_income_household':'net_income_household test'})\n",
    "\n",
    "df = pd.concat([cols3, cols4], axis=1)\n",
    "\n",
    "sns.kdeplot(df, bw_adjust=20)\n",
    "\n",
    "\n",
    "plt.xlabel(\"Distribution values\", size=10, color='black')\n",
    "\n",
    "\n",
    "plt.show()"
   ]
  },
  {
   "cell_type": "markdown",
   "id": "4ecb0170",
   "metadata": {},
   "source": [
    "&nbsp;"
   ]
  },
  {
   "cell_type": "markdown",
   "id": "7b89730e",
   "metadata": {},
   "source": [
    "&nbsp;"
   ]
  },
  {
   "cell_type": "markdown",
   "id": "00bb106d",
   "metadata": {},
   "source": [
    "# minmax scale continuous variables"
   ]
  },
  {
   "cell_type": "code",
   "execution_count": 31,
   "id": "578c9667",
   "metadata": {},
   "outputs": [],
   "source": [
    "scaler = MinMaxScaler()"
   ]
  },
  {
   "cell_type": "code",
   "execution_count": 32,
   "id": "c94f401d",
   "metadata": {},
   "outputs": [],
   "source": [
    "train_set[['taxable_income','net_income_household']] = scaler.fit_transform(train_set[['taxable_income','net_income_household']])\n",
    "test_set[['taxable_income','net_income_household']] = scaler.fit_transform(test_set[['taxable_income','net_income_household']])"
   ]
  },
  {
   "cell_type": "code",
   "execution_count": 33,
   "id": "c37defaf",
   "metadata": {},
   "outputs": [
    {
     "data": {
      "image/png": "[encoded data removed]",
      "text/plain": [
       "<Figure size 640x480 with 1 Axes>"
      ]
     },
     "metadata": {},
     "output_type": "display_data"
    }
   ],
   "source": [
    "cols3 = train_set[['taxable_income', 'net_income_household']]\n",
    "cols4 = test_set[['taxable_income', 'net_income_household']]\n",
    "\n",
    "cols3 = cols3.rename(columns={'taxable_income':'taxable_income train','net_income_household':'net_income_household train'})\n",
    "cols4 = cols4.rename(columns={'taxable_income':'taxable_income test','net_income_household':'net_income_household test'})\n",
    "\n",
    "df = pd.concat([cols3, cols4], axis=1)\n",
    "\n",
    "sns.kdeplot(df, bw_adjust=20)\n",
    "\n",
    "plt.xlabel(\"Distribution values\", size=10, color='black')\n",
    "\n",
    "\n",
    "plt.show()"
   ]
  },
  {
   "cell_type": "markdown",
   "id": "ed388ead",
   "metadata": {},
   "source": [
    "&nbsp;"
   ]
  },
  {
   "cell_type": "markdown",
   "id": "80a0930c",
   "metadata": {},
   "source": [
    "&nbsp;"
   ]
  },
  {
   "cell_type": "markdown",
   "id": "b51c1d53",
   "metadata": {},
   "source": [
    "# Make dataset with added valence features"
   ]
  },
  {
   "cell_type": "code",
   "execution_count": 34,
   "id": "3b7bac62",
   "metadata": {},
   "outputs": [],
   "source": [
    "bbpdata = pd.read_csv(\"../Downloads/table_tabel-68f189ce-1767-4eed-9368-34d5efa455a6.csv\")\n",
    "inflatiedata = pd.read_csv(\"../Downloads/CPI__prijsindex_2015_100_17112022_134353.csv\", sep = ';')\n",
    "unemploymentdata = pd.read_csv(\"../Downloads/Arbeidsdeelname__kerncijfers_17112022_144331.csv\", sep = ';')"
   ]
  },
  {
   "cell_type": "markdown",
   "id": "5d500ea8",
   "metadata": {},
   "source": [
    "__Prepare inflation, gdp, unemployment and incumbent columns__"
   ]
  },
  {
   "cell_type": "markdown",
   "id": "30cb9c4c",
   "metadata": {},
   "source": [
    "_inflation_"
   ]
  },
  {
   "cell_type": "code",
   "execution_count": 35,
   "id": "991b4ff3",
   "metadata": {},
   "outputs": [],
   "source": [
    "inflatiedata = inflatiedata.drop(['Bestedingscategorieën'], axis=1)"
   ]
  },
  {
   "cell_type": "code",
   "execution_count": 36,
   "id": "b81bcdde",
   "metadata": {},
   "outputs": [
    {
     "data": {
      "text/html": [
       "<div>\n",
       "<style scoped>\n",
       "    .dataframe tbody tr th:only-of-type {\n",
       "        vertical-align: middle;\n",
       "    }\n",
       "\n",
       "    .dataframe tbody tr th {\n",
       "        vertical-align: top;\n",
       "    }\n",
       "\n",
       "    .dataframe thead th {\n",
       "        text-align: right;\n",
       "    }\n",
       "</style>\n",
       "<table border=\"1\" class=\"dataframe\">\n",
       "  <thead>\n",
       "    <tr style=\"text-align: right;\">\n",
       "      <th></th>\n",
       "      <th>Perioden</th>\n",
       "      <th>CPI (2015 = 100)</th>\n",
       "    </tr>\n",
       "  </thead>\n",
       "  <tbody>\n",
       "    <tr>\n",
       "      <th>0</th>\n",
       "      <td>2002</td>\n",
       "      <td>80.74</td>\n",
       "    </tr>\n",
       "    <tr>\n",
       "      <th>1</th>\n",
       "      <td>2003</td>\n",
       "      <td>82.43</td>\n",
       "    </tr>\n",
       "    <tr>\n",
       "      <th>2</th>\n",
       "      <td>2004</td>\n",
       "      <td>83.48</td>\n",
       "    </tr>\n",
       "    <tr>\n",
       "      <th>3</th>\n",
       "      <td>2005</td>\n",
       "      <td>84.88</td>\n",
       "    </tr>\n",
       "    <tr>\n",
       "      <th>4</th>\n",
       "      <td>2006</td>\n",
       "      <td>85.82</td>\n",
       "    </tr>\n",
       "    <tr>\n",
       "      <th>5</th>\n",
       "      <td>2007</td>\n",
       "      <td>87.20</td>\n",
       "    </tr>\n",
       "    <tr>\n",
       "      <th>6</th>\n",
       "      <td>2008</td>\n",
       "      <td>89.37</td>\n",
       "    </tr>\n",
       "    <tr>\n",
       "      <th>7</th>\n",
       "      <td>2009</td>\n",
       "      <td>90.44</td>\n",
       "    </tr>\n",
       "    <tr>\n",
       "      <th>8</th>\n",
       "      <td>2010</td>\n",
       "      <td>91.59</td>\n",
       "    </tr>\n",
       "    <tr>\n",
       "      <th>9</th>\n",
       "      <td>2011</td>\n",
       "      <td>93.73</td>\n",
       "    </tr>\n",
       "    <tr>\n",
       "      <th>10</th>\n",
       "      <td>2012</td>\n",
       "      <td>96.04</td>\n",
       "    </tr>\n",
       "    <tr>\n",
       "      <th>11</th>\n",
       "      <td>2013</td>\n",
       "      <td>98.44</td>\n",
       "    </tr>\n",
       "    <tr>\n",
       "      <th>12</th>\n",
       "      <td>2014</td>\n",
       "      <td>99.40</td>\n",
       "    </tr>\n",
       "    <tr>\n",
       "      <th>13</th>\n",
       "      <td>2015</td>\n",
       "      <td>100.00</td>\n",
       "    </tr>\n",
       "    <tr>\n",
       "      <th>14</th>\n",
       "      <td>2016</td>\n",
       "      <td>100.32</td>\n",
       "    </tr>\n",
       "    <tr>\n",
       "      <th>15</th>\n",
       "      <td>2017</td>\n",
       "      <td>101.70</td>\n",
       "    </tr>\n",
       "    <tr>\n",
       "      <th>16</th>\n",
       "      <td>2018</td>\n",
       "      <td>103.44</td>\n",
       "    </tr>\n",
       "    <tr>\n",
       "      <th>17</th>\n",
       "      <td>2019</td>\n",
       "      <td>106.16</td>\n",
       "    </tr>\n",
       "    <tr>\n",
       "      <th>18</th>\n",
       "      <td>2020</td>\n",
       "      <td>107.51</td>\n",
       "    </tr>\n",
       "    <tr>\n",
       "      <th>19</th>\n",
       "      <td>2021</td>\n",
       "      <td>110.39</td>\n",
       "    </tr>\n",
       "  </tbody>\n",
       "</table>\n",
       "</div>"
      ],
      "text/plain": [
       "    Perioden  CPI (2015 = 100)\n",
       "0       2002             80.74\n",
       "1       2003             82.43\n",
       "2       2004             83.48\n",
       "3       2005             84.88\n",
       "4       2006             85.82\n",
       "5       2007             87.20\n",
       "6       2008             89.37\n",
       "7       2009             90.44\n",
       "8       2010             91.59\n",
       "9       2011             93.73\n",
       "10      2012             96.04\n",
       "11      2013             98.44\n",
       "12      2014             99.40\n",
       "13      2015            100.00\n",
       "14      2016            100.32\n",
       "15      2017            101.70\n",
       "16      2018            103.44\n",
       "17      2019            106.16\n",
       "18      2020            107.51\n",
       "19      2021            110.39"
      ]
     },
     "execution_count": 36,
     "metadata": {},
     "output_type": "execute_result"
    }
   ],
   "source": [
    "inflatiedata"
   ]
  },
  {
   "cell_type": "code",
   "execution_count": 37,
   "id": "e78d1b03",
   "metadata": {},
   "outputs": [],
   "source": [
    "inflation_21 = inflatiedata['CPI (2015 = 100)'][19] - inflatiedata['CPI (2015 = 100)'][16]\n",
    "inflation_17 = inflatiedata['CPI (2015 = 100)'][15] - inflatiedata['CPI (2015 = 100)'][11]\n",
    "inflation_12 = inflatiedata['CPI (2015 = 100)'][10] - inflatiedata['CPI (2015 = 100)'][9]\n",
    "inflation_10 = inflatiedata['CPI (2015 = 100)'][8] - inflatiedata['CPI (2015 = 100)'][5]\n",
    "inflation_6 = inflatiedata['CPI (2015 = 100)'][4] - inflatiedata['CPI (2015 = 100)'][1]"
   ]
  },
  {
   "cell_type": "code",
   "execution_count": 38,
   "id": "d96d09d5",
   "metadata": {},
   "outputs": [],
   "source": [
    "def valence_inflation (row):\n",
    "    if row['date'] == 202107. :\n",
    "        return inflation_21\n",
    "    if row['date'] == 202106 :\n",
    "        return inflation_21\n",
    "    if row['date'] == 201906 :\n",
    "        return inflation_17\n",
    "    if row['date'] == 201907:\n",
    "        return inflation_17\n",
    "    if row['date']  == 201207:\n",
    "        return inflation_12\n",
    "    if row['date'] == 201206:\n",
    "        return inflation_12\n",
    "    if row['date'] == 201006:\n",
    "        return inflation_10\n",
    "    if row['date'] == 201007:\n",
    "        return inflation_10\n",
    "    if row['date'] == 200806:\n",
    "        return inflation_6\n",
    "    if row['date'] == 200809:\n",
    "        return inflation_6\n",
    "    return 0"
   ]
  },
  {
   "cell_type": "markdown",
   "id": "ade6b042",
   "metadata": {},
   "source": [
    "_gdp_"
   ]
  },
  {
   "cell_type": "code",
   "execution_count": 39,
   "id": "54e9ff92",
   "metadata": {},
   "outputs": [],
   "source": [
    "bbpdata = bbpdata.replace(',','.', regex=True)"
   ]
  },
  {
   "cell_type": "code",
   "execution_count": 40,
   "id": "823c9699",
   "metadata": {},
   "outputs": [],
   "source": [
    "bbpdata['Verandering (%-verandering t.o.v. jaar eerder)'] = bbpdata['Verandering (%-verandering t.o.v. jaar eerder)'].astype(float)"
   ]
  },
  {
   "cell_type": "code",
   "execution_count": 41,
   "id": "bcc86662",
   "metadata": {},
   "outputs": [
    {
     "data": {
      "text/html": [
       "<div>\n",
       "<style scoped>\n",
       "    .dataframe tbody tr th:only-of-type {\n",
       "        vertical-align: middle;\n",
       "    }\n",
       "\n",
       "    .dataframe tbody tr th {\n",
       "        vertical-align: top;\n",
       "    }\n",
       "\n",
       "    .dataframe thead th {\n",
       "        text-align: right;\n",
       "    }\n",
       "</style>\n",
       "<table border=\"1\" class=\"dataframe\">\n",
       "  <thead>\n",
       "    <tr style=\"text-align: right;\">\n",
       "      <th></th>\n",
       "      <th>Perioden</th>\n",
       "      <th>Verandering (%-verandering t.o.v. jaar eerder)</th>\n",
       "    </tr>\n",
       "  </thead>\n",
       "  <tbody>\n",
       "    <tr>\n",
       "      <th>0</th>\n",
       "      <td>2000</td>\n",
       "      <td>4.2</td>\n",
       "    </tr>\n",
       "    <tr>\n",
       "      <th>1</th>\n",
       "      <td>2001</td>\n",
       "      <td>2.3</td>\n",
       "    </tr>\n",
       "    <tr>\n",
       "      <th>2</th>\n",
       "      <td>2002</td>\n",
       "      <td>0.2</td>\n",
       "    </tr>\n",
       "    <tr>\n",
       "      <th>3</th>\n",
       "      <td>2003</td>\n",
       "      <td>0.2</td>\n",
       "    </tr>\n",
       "    <tr>\n",
       "      <th>4</th>\n",
       "      <td>2004</td>\n",
       "      <td>2.0</td>\n",
       "    </tr>\n",
       "    <tr>\n",
       "      <th>5</th>\n",
       "      <td>2005</td>\n",
       "      <td>2.1</td>\n",
       "    </tr>\n",
       "    <tr>\n",
       "      <th>6</th>\n",
       "      <td>2006</td>\n",
       "      <td>3.5</td>\n",
       "    </tr>\n",
       "    <tr>\n",
       "      <th>7</th>\n",
       "      <td>2007</td>\n",
       "      <td>3.8</td>\n",
       "    </tr>\n",
       "    <tr>\n",
       "      <th>8</th>\n",
       "      <td>2008</td>\n",
       "      <td>2.2</td>\n",
       "    </tr>\n",
       "    <tr>\n",
       "      <th>9</th>\n",
       "      <td>2009</td>\n",
       "      <td>-3.7</td>\n",
       "    </tr>\n",
       "    <tr>\n",
       "      <th>10</th>\n",
       "      <td>2010</td>\n",
       "      <td>1.3</td>\n",
       "    </tr>\n",
       "    <tr>\n",
       "      <th>11</th>\n",
       "      <td>2011</td>\n",
       "      <td>1.6</td>\n",
       "    </tr>\n",
       "    <tr>\n",
       "      <th>12</th>\n",
       "      <td>2012</td>\n",
       "      <td>-1.0</td>\n",
       "    </tr>\n",
       "    <tr>\n",
       "      <th>13</th>\n",
       "      <td>2013</td>\n",
       "      <td>-0.1</td>\n",
       "    </tr>\n",
       "    <tr>\n",
       "      <th>14</th>\n",
       "      <td>2014</td>\n",
       "      <td>1.4</td>\n",
       "    </tr>\n",
       "    <tr>\n",
       "      <th>15</th>\n",
       "      <td>2015</td>\n",
       "      <td>2.0</td>\n",
       "    </tr>\n",
       "    <tr>\n",
       "      <th>16</th>\n",
       "      <td>2016</td>\n",
       "      <td>2.2</td>\n",
       "    </tr>\n",
       "    <tr>\n",
       "      <th>17</th>\n",
       "      <td>2017</td>\n",
       "      <td>2.9</td>\n",
       "    </tr>\n",
       "    <tr>\n",
       "      <th>18</th>\n",
       "      <td>2018</td>\n",
       "      <td>2.4</td>\n",
       "    </tr>\n",
       "    <tr>\n",
       "      <th>19</th>\n",
       "      <td>2019</td>\n",
       "      <td>2.0</td>\n",
       "    </tr>\n",
       "    <tr>\n",
       "      <th>20</th>\n",
       "      <td>2020</td>\n",
       "      <td>-3.8</td>\n",
       "    </tr>\n",
       "    <tr>\n",
       "      <th>21</th>\n",
       "      <td>2021</td>\n",
       "      <td>4.8</td>\n",
       "    </tr>\n",
       "  </tbody>\n",
       "</table>\n",
       "</div>"
      ],
      "text/plain": [
       "    Perioden  Verandering (%-verandering t.o.v. jaar eerder)\n",
       "0       2000                                             4.2\n",
       "1       2001                                             2.3\n",
       "2       2002                                             0.2\n",
       "3       2003                                             0.2\n",
       "4       2004                                             2.0\n",
       "5       2005                                             2.1\n",
       "6       2006                                             3.5\n",
       "7       2007                                             3.8\n",
       "8       2008                                             2.2\n",
       "9       2009                                            -3.7\n",
       "10      2010                                             1.3\n",
       "11      2011                                             1.6\n",
       "12      2012                                            -1.0\n",
       "13      2013                                            -0.1\n",
       "14      2014                                             1.4\n",
       "15      2015                                             2.0\n",
       "16      2016                                             2.2\n",
       "17      2017                                             2.9\n",
       "18      2018                                             2.4\n",
       "19      2019                                             2.0\n",
       "20      2020                                            -3.8\n",
       "21      2021                                             4.8"
      ]
     },
     "execution_count": 41,
     "metadata": {},
     "output_type": "execute_result"
    }
   ],
   "source": [
    "bbpdata"
   ]
  },
  {
   "cell_type": "code",
   "execution_count": 42,
   "id": "0ea6e3dc",
   "metadata": {},
   "outputs": [],
   "source": [
    "gdp_2002 = ((100+(0.002*100)))\n",
    "gdp_2003 = ((gdp_2002+(0.002*gdp_2002)))\n",
    "gdp_2004 = ((gdp_2003+(0.02*gdp_2003)))\n",
    "gdp_2005 = ((gdp_2004+(0.021*gdp_2004)))\n",
    "gdp_2006 = ((gdp_2005+(0.035*gdp_2005)))\n",
    "gdp_2007 = ((gdp_2006+(0.038*gdp_2006)))\n",
    "gdp_2008 = ((gdp_2007+(0.022*gdp_2007)))\n",
    "gdp_2009 = ((gdp_2008-(0.037*gdp_2008)))\n",
    "gdp_2010 = ((gdp_2009+(0.013*gdp_2009)))\n",
    "gdp_2011 = ((gdp_2010+(0.016*gdp_2010)))\n",
    "gdp_2012 = ((gdp_2011-(0.01*gdp_2011)))\n",
    "gdp_2013 = ((gdp_2012-(0.001*gdp_2012)))\n",
    "gdp_2014 = ((gdp_2013+(0.014*gdp_2013)))\n",
    "gdp_2015 = ((gdp_2014+(0.02*gdp_2014)))\n",
    "gdp_2016 = ((gdp_2015+(0.022*gdp_2015)))\n",
    "gdp_2017 = ((gdp_2016+(0.029*gdp_2016)))\n",
    "gdp_2018 = ((gdp_2017+(0.024*gdp_2017)))\n",
    "gdp_2019 = ((gdp_2018+(0.02*gdp_2018)))\n",
    "gdp_2020 = ((gdp_2019-(0.038*gdp_2019)))\n",
    "gdp_2021 = ((gdp_2020+(0.048*gdp_2020)))"
   ]
  },
  {
   "cell_type": "code",
   "execution_count": 43,
   "id": "604bdfb7",
   "metadata": {},
   "outputs": [],
   "source": [
    "def valence_gdp (row):\n",
    "    if row['date'] == 202107. :\n",
    "        return 100*((gdp_2021-gdp_2017)/gdp_2017)\n",
    "    if row['date'] == 202106 :\n",
    "        return 100*((gdp_2021-gdp_2017)/gdp_2017)\n",
    "    if row['date'] == 201906 :\n",
    "        return 100*((gdp_2017-gdp_2012)/gdp_2012)\n",
    "    if row['date'] == 201907:\n",
    "        return 100*((gdp_2017-gdp_2012)/gdp_2012)\n",
    "    if row['date']  == 201207:\n",
    "        return 100*((gdp_2012-gdp_2010)/gdp_2010)\n",
    "    if row['date'] == 201206:\n",
    "        return 100*((gdp_2012-gdp_2010)/gdp_2010)\n",
    "    if row['date'] == 201006:\n",
    "        return 100*((gdp_2010-gdp_2006)/gdp_2006)\n",
    "    if row['date'] == 201007:\n",
    "        return 100*((gdp_2010-gdp_2006)/gdp_2006)\n",
    "    if row['date'] == 200806:\n",
    "        return 100*((gdp_2006-gdp_2002)/gdp_2002)\n",
    "    if row['date'] == 200809:\n",
    "        return 100*((gdp_2006-gdp_2002)/gdp_2002)\n",
    "    return 0"
   ]
  },
  {
   "cell_type": "markdown",
   "id": "777fbe89",
   "metadata": {},
   "source": [
    "_unemployment_"
   ]
  },
  {
   "cell_type": "code",
   "execution_count": 44,
   "id": "dfe9b6f4",
   "metadata": {},
   "outputs": [],
   "source": [
    "unemploymentdata = unemploymentdata.drop(['Geslacht', 'Leeftijd', 'Hoogst behaald onderwijsniveau'], axis=1)"
   ]
  },
  {
   "cell_type": "code",
   "execution_count": 45,
   "id": "1a6c0c00",
   "metadata": {},
   "outputs": [
    {
     "data": {
      "text/html": [
       "<div>\n",
       "<style scoped>\n",
       "    .dataframe tbody tr th:only-of-type {\n",
       "        vertical-align: middle;\n",
       "    }\n",
       "\n",
       "    .dataframe tbody tr th {\n",
       "        vertical-align: top;\n",
       "    }\n",
       "\n",
       "    .dataframe thead th {\n",
       "        text-align: right;\n",
       "    }\n",
       "</style>\n",
       "<table border=\"1\" class=\"dataframe\">\n",
       "  <thead>\n",
       "    <tr style=\"text-align: right;\">\n",
       "      <th></th>\n",
       "      <th>Perioden</th>\n",
       "      <th>Netto arbeidsparticipatie (%)</th>\n",
       "    </tr>\n",
       "  </thead>\n",
       "  <tbody>\n",
       "    <tr>\n",
       "      <th>0</th>\n",
       "      <td>2003</td>\n",
       "      <td>64.2</td>\n",
       "    </tr>\n",
       "    <tr>\n",
       "      <th>1</th>\n",
       "      <td>2004</td>\n",
       "      <td>63.8</td>\n",
       "    </tr>\n",
       "    <tr>\n",
       "      <th>2</th>\n",
       "      <td>2005</td>\n",
       "      <td>64.1</td>\n",
       "    </tr>\n",
       "    <tr>\n",
       "      <th>3</th>\n",
       "      <td>2006</td>\n",
       "      <td>65.0</td>\n",
       "    </tr>\n",
       "    <tr>\n",
       "      <th>4</th>\n",
       "      <td>2007</td>\n",
       "      <td>66.6</td>\n",
       "    </tr>\n",
       "    <tr>\n",
       "      <th>5</th>\n",
       "      <td>2008</td>\n",
       "      <td>67.9</td>\n",
       "    </tr>\n",
       "    <tr>\n",
       "      <th>6</th>\n",
       "      <td>2009</td>\n",
       "      <td>67.6</td>\n",
       "    </tr>\n",
       "    <tr>\n",
       "      <th>7</th>\n",
       "      <td>2010</td>\n",
       "      <td>66.7</td>\n",
       "    </tr>\n",
       "    <tr>\n",
       "      <th>8</th>\n",
       "      <td>2011</td>\n",
       "      <td>66.5</td>\n",
       "    </tr>\n",
       "    <tr>\n",
       "      <th>9</th>\n",
       "      <td>2012</td>\n",
       "      <td>66.4</td>\n",
       "    </tr>\n",
       "    <tr>\n",
       "      <th>10</th>\n",
       "      <td>2013</td>\n",
       "      <td>65.4</td>\n",
       "    </tr>\n",
       "    <tr>\n",
       "      <th>11</th>\n",
       "      <td>2014</td>\n",
       "      <td>64.9</td>\n",
       "    </tr>\n",
       "    <tr>\n",
       "      <th>12</th>\n",
       "      <td>2015</td>\n",
       "      <td>65.4</td>\n",
       "    </tr>\n",
       "    <tr>\n",
       "      <th>13</th>\n",
       "      <td>2016</td>\n",
       "      <td>65.8</td>\n",
       "    </tr>\n",
       "    <tr>\n",
       "      <th>14</th>\n",
       "      <td>2017</td>\n",
       "      <td>66.7</td>\n",
       "    </tr>\n",
       "    <tr>\n",
       "      <th>15</th>\n",
       "      <td>2018</td>\n",
       "      <td>67.8</td>\n",
       "    </tr>\n",
       "    <tr>\n",
       "      <th>16</th>\n",
       "      <td>2019</td>\n",
       "      <td>68.8</td>\n",
       "    </tr>\n",
       "    <tr>\n",
       "      <th>17</th>\n",
       "      <td>2020</td>\n",
       "      <td>68.4</td>\n",
       "    </tr>\n",
       "    <tr>\n",
       "      <th>18</th>\n",
       "      <td>2021 1e kwartaal</td>\n",
       "      <td>69.5</td>\n",
       "    </tr>\n",
       "    <tr>\n",
       "      <th>19</th>\n",
       "      <td>2021 2e kwartaal</td>\n",
       "      <td>70.1</td>\n",
       "    </tr>\n",
       "    <tr>\n",
       "      <th>20</th>\n",
       "      <td>2021 3e kwartaal</td>\n",
       "      <td>70.9</td>\n",
       "    </tr>\n",
       "    <tr>\n",
       "      <th>21</th>\n",
       "      <td>2021 4e kwartaal</td>\n",
       "      <td>71.1</td>\n",
       "    </tr>\n",
       "    <tr>\n",
       "      <th>22</th>\n",
       "      <td>2021</td>\n",
       "      <td>70.4</td>\n",
       "    </tr>\n",
       "    <tr>\n",
       "      <th>23</th>\n",
       "      <td>2022 1e kwartaal</td>\n",
       "      <td>71.4</td>\n",
       "    </tr>\n",
       "  </tbody>\n",
       "</table>\n",
       "</div>"
      ],
      "text/plain": [
       "            Perioden  Netto arbeidsparticipatie (%)\n",
       "0               2003                           64.2\n",
       "1               2004                           63.8\n",
       "2               2005                           64.1\n",
       "3               2006                           65.0\n",
       "4               2007                           66.6\n",
       "5               2008                           67.9\n",
       "6               2009                           67.6\n",
       "7               2010                           66.7\n",
       "8               2011                           66.5\n",
       "9               2012                           66.4\n",
       "10              2013                           65.4\n",
       "11              2014                           64.9\n",
       "12              2015                           65.4\n",
       "13              2016                           65.8\n",
       "14              2017                           66.7\n",
       "15              2018                           67.8\n",
       "16              2019                           68.8\n",
       "17              2020                           68.4\n",
       "18  2021 1e kwartaal                           69.5\n",
       "19  2021 2e kwartaal                           70.1\n",
       "20  2021 3e kwartaal                           70.9\n",
       "21  2021 4e kwartaal                           71.1\n",
       "22              2021                           70.4\n",
       "23  2022 1e kwartaal                           71.4"
      ]
     },
     "execution_count": 45,
     "metadata": {},
     "output_type": "execute_result"
    }
   ],
   "source": [
    "unemploymentdata"
   ]
  },
  {
   "cell_type": "code",
   "execution_count": 46,
   "id": "dc6b811b",
   "metadata": {},
   "outputs": [],
   "source": [
    "unemployment_21 = unemploymentdata['Netto arbeidsparticipatie (%)'][22] - unemploymentdata['Netto arbeidsparticipatie (%)'][14]\n",
    "unemployment_17 = unemploymentdata['Netto arbeidsparticipatie (%)'][14] - unemploymentdata['Netto arbeidsparticipatie (%)'][9]\n",
    "unemployment_12 = unemploymentdata['Netto arbeidsparticipatie (%)'][9] - unemploymentdata['Netto arbeidsparticipatie (%)'][7]\n",
    "unemployment_10 = unemploymentdata['Netto arbeidsparticipatie (%)'][7] - unemploymentdata['Netto arbeidsparticipatie (%)'][3]\n",
    "unemployment_6 = unemploymentdata['Netto arbeidsparticipatie (%)'][3] - unemploymentdata['Netto arbeidsparticipatie (%)'][1]"
   ]
  },
  {
   "cell_type": "code",
   "execution_count": 47,
   "id": "791f3489",
   "metadata": {},
   "outputs": [],
   "source": [
    "def valence_unemployment (row):\n",
    "    if row['date'] == 202107. :\n",
    "        return unemployment_21\n",
    "    if row['date'] == 202106 :\n",
    "        return unemployment_21\n",
    "    if row['date'] == 201906 :\n",
    "        return unemployment_17\n",
    "    if row['date'] == 201907:\n",
    "        return unemployment_17\n",
    "    if row['date']  == 201207:\n",
    "        return unemployment_12\n",
    "    if row['date'] == 201206:\n",
    "        return unemployment_12\n",
    "    if row['date'] == 201006:\n",
    "        return unemployment_10\n",
    "    if row['date'] == 201007:\n",
    "        return unemployment_10\n",
    "    if row['date'] == 200806:\n",
    "        return unemployment_6\n",
    "    if row['date'] == 200809:\n",
    "        return unemployment_6\n",
    "    return 0"
   ]
  },
  {
   "cell_type": "markdown",
   "id": "f2c0b827",
   "metadata": {},
   "source": [
    "_incumbent_"
   ]
  },
  {
   "cell_type": "code",
   "execution_count": 48,
   "id": "97fbf7a7",
   "metadata": {},
   "outputs": [],
   "source": [
    "def incumbent_party(row):  \n",
    "    if row['date'] == 202107 and row['partyvote'] == 'VVD':\n",
    "        return 1\n",
    "    elif row['date'] == 202106 and row['partyvote'] == 'VVD':\n",
    "        return 1\n",
    "    elif row['date'] == 201907 and row['partyvote'] == 'VVD':\n",
    "        return 1\n",
    "    elif row['date'] == 201906 and row['partyvote'] == 'VVD':\n",
    "        return 1\n",
    "    elif row['date'] == 201207 and row['partyvote'] == 'VVD':\n",
    "        return 1\n",
    "    elif row['date'] == 201206 and row['partyvote'] == 'VVD':\n",
    "        return 1\n",
    "    elif row['date'] == 200806 and row['partyvote'] == 'VVD':\n",
    "        return 1\n",
    "    elif row['date'] == 200809 and row['partyvote'] == 'VVD':\n",
    "        return 1\n",
    "    elif row['date'] == 202107 and row['partyvote'] == 'CDA':\n",
    "        return 1\n",
    "    elif row['date'] == 202106 and row['partyvote'] == 'CDA':\n",
    "        return 1\n",
    "    elif row['date'] == 201207 and row['partyvote'] == 'CDA':\n",
    "        return 1\n",
    "    elif row['date'] == 201206 and row['partyvote'] == 'CDA':\n",
    "        return 1\n",
    "    elif row['date'] == 201007 and row['partyvote'] == 'CDA':\n",
    "        return 1\n",
    "    elif row['date'] == 201006 and row['partyvote'] == 'CDA':\n",
    "        return 1\n",
    "    elif row['date'] == 200806 and row['partyvote'] == 'CDA':\n",
    "        return 1\n",
    "    elif row['date'] == 200809 and row['partyvote'] == 'CDA':\n",
    "        return 1\n",
    "    elif row['date'] == 202107 and row['partyvote'] == 'D66':\n",
    "        return 1\n",
    "    elif row['date'] == 202106 and row['partyvote'] == 'D66':\n",
    "        return 1\n",
    "    elif row['date'] == 200806 and row['partyvote'] == 'D66':\n",
    "        return 1\n",
    "    elif row['date'] == 200809 and row['partyvote'] == 'D66':\n",
    "        return 1\n",
    "    elif row['date'] == 202107 and row['partyvote'] == 'CU':\n",
    "        return 1\n",
    "    elif row['date'] == 202106 and row['partyvote'] == 'CU':\n",
    "        return 1\n",
    "    elif row['date'] == 201007 and row['partyvote'] == 'CU':\n",
    "        return 1\n",
    "    elif row['date'] == 201006 and row['partyvote'] == 'CU':\n",
    "        return 1\n",
    "    elif row['date'] == 201907 and row['partyvote'] == 'PvdA':\n",
    "        return 1\n",
    "    elif row['date'] == 201906 and row['partyvote'] == 'PvdA':\n",
    "        return 1\n",
    "    elif row['date'] == 201007 and row['partyvote'] == 'PvdA':\n",
    "        return 1\n",
    "    elif row['date'] == 201006 and row['partyvote'] == 'PvdA':\n",
    "        return 1\n",
    "    return 0"
   ]
  },
  {
   "cell_type": "markdown",
   "id": "3fc73b4f",
   "metadata": {},
   "source": [
    "__apply formulas to columns__"
   ]
  },
  {
   "cell_type": "code",
   "execution_count": 49,
   "id": "73d2cd2f",
   "metadata": {},
   "outputs": [],
   "source": [
    "train_set_val = train_set.copy()\n",
    "test_set_val = test_set.copy()"
   ]
  },
  {
   "cell_type": "code",
   "execution_count": 50,
   "id": "c697b6f9",
   "metadata": {},
   "outputs": [],
   "source": [
    "train_set_val['GDP'] = train_set_val.apply (lambda row: valence_gdp(row), axis=1)\n",
    "train_set_val['inflation'] = train_set_val.apply (lambda row: valence_inflation(row), axis=1)\n",
    "train_set_val['unemployment'] = train_set_val.apply (lambda row: valence_unemployment(row), axis=1)\n",
    "train_set_val['incumbent'] = train_set_val.apply (lambda row: incumbent_party(row), axis=1)"
   ]
  },
  {
   "cell_type": "code",
   "execution_count": 51,
   "id": "1da0f077",
   "metadata": {},
   "outputs": [],
   "source": [
    "test_set_val['GDP'] = test_set_val.apply (lambda row: valence_gdp(row), axis=1)\n",
    "test_set_val['inflation'] = test_set_val.apply (lambda row: valence_inflation(row), axis=1)\n",
    "test_set_val['unemployment'] = test_set_val.apply (lambda row: valence_unemployment(row), axis=1)\n",
    "test_set_val['incumbent'] = test_set_val.apply (lambda row: incumbent_party(row), axis=1)"
   ]
  },
  {
   "cell_type": "markdown",
   "id": "4c98dac3",
   "metadata": {},
   "source": [
    "__change order of columns__"
   ]
  },
  {
   "cell_type": "code",
   "execution_count": 52,
   "id": "5a0036e9",
   "metadata": {},
   "outputs": [],
   "source": [
    "my_list = list(train_set_val)"
   ]
  },
  {
   "cell_type": "code",
   "execution_count": 53,
   "id": "63336f50",
   "metadata": {},
   "outputs": [
    {
     "name": "stdout",
     "output_type": "stream",
     "text": [
      "['date', 'sex', 'age', 'satisfaction_individual', 'satisfaction_individual_2', 'satisfaction_national', 'satisfaction_national_2', 'income', 'income_2', 'entrepreneur_freelancer', 'entrepreneur_freelancer_2', 'entrepreneur_freelancer_alongside', 'entrepreneur_freelancer_alongside_2', 'one_person_business', 'one_person_business_2', 'company_owner', 'company_owner_2', 'partnership', 'partnership_2', 'partner_partnership', 'partner_partnership_2', 'private_limited_liability_company', 'private_limited_liability_company_2', 'other', 'other_2', 'none_work_situation', 'none_work_situation_2', 'zorgtoeslag', 'zorgtoeslag_2', 'Ziektewetuitkering', 'Ziektewetuitkering_2', 'ANW', 'ANW_2', 'nabestaandenpensioen', 'nabestaandenpensioen_2', 'bijstand', 'bijstand_2', 'bijstand_zelfstandigen', 'bijstand_zelfstandigen_2', 'IOAWIOAZ', 'IOAWIOAZ_2', 'WGA', 'WGA_2', 'invadility_pension', 'invadility_pension_2', 'kinderbijslag', 'kinderbijslag_2', 'none_benefit', 'none_benefit_2', 'income_realestate', 'income_realestate_2', 'student_grant', 'student_grant_2', 'student_loan', 'student_loan_2', 'alimony_ex', 'alimony_ex_2', 'alimony_children', 'alimony_children_2', 'study_allowance_parents', 'study_allowance_parents_2', 'allowence_family', 'allowence_family_2', 'dividend_stock_investment', 'dividend_stock_investment_2', 'interests', 'interests_2', 'none_sources', 'none_sources_2', 'interest_loans', 'interest_loans_2', 'support_gift_paid', 'support_gift_paid_2', 'taxable_income', 'taxable_income_2', 'net_income_household', 'net_income_household_2', 'financial_situation_grade', 'financial_situation_grade_2', 'difficulty_life_grade', 'difficulty_life_grade_2', 'financial_situation_category', 'financial_situation_category_2', 'household_expenditure', 'household_expenditure_2', 'big_purchase', 'big_purchase_2', 'financial_situation_future', 'financial_situation_future_2', 'no_arrears', 'no_arrears_2', 'rent_mortgage_arrears', 'rent_mortgage_arrears_2', 'general_utilities_arrear', 'general_utilities_arrear_2', 'other_arrears', 'other_arrears_2', 'months_arrears_rent', 'months_arrears_rent_2', 'months_arrears_general_utilities', 'months_arrears_general_utilities_2', 'partyvote', 'GDP', 'inflation', 'unemployment', 'incumbent']\n"
     ]
    }
   ],
   "source": [
    "print(my_list)"
   ]
  },
  {
   "cell_type": "code",
   "execution_count": 54,
   "id": "f6a0a754",
   "metadata": {},
   "outputs": [],
   "source": [
    "train_set_val = train_set_val.loc[:, ['date', 'sex', 'age', 'satisfaction_individual', 'satisfaction_individual_2', 'satisfaction_national', 'satisfaction_national_2', 'income', 'income_2', 'entrepreneur_freelancer', 'entrepreneur_freelancer_2', 'entrepreneur_freelancer_alongside', 'entrepreneur_freelancer_alongside_2', 'one_person_business', 'one_person_business_2', 'company_owner', 'company_owner_2', 'partnership', 'partnership_2', 'partner_partnership', 'partner_partnership_2', 'private_limited_liability_company', 'private_limited_liability_company_2', 'other', 'other_2', 'none_work_situation', 'none_work_situation_2', 'zorgtoeslag', 'zorgtoeslag_2', 'Ziektewetuitkering', 'Ziektewetuitkering_2', 'ANW', 'ANW_2', 'nabestaandenpensioen', 'nabestaandenpensioen_2', 'bijstand', 'bijstand_2', 'bijstand_zelfstandigen', 'bijstand_zelfstandigen_2', 'IOAWIOAZ', 'IOAWIOAZ_2', 'WGA', 'WGA_2', 'invadility_pension', 'invadility_pension_2', 'kinderbijslag', 'kinderbijslag_2', 'none_benefit', 'none_benefit_2', 'income_realestate', 'income_realestate_2', 'student_grant', 'student_grant_2', 'student_loan', 'student_loan_2', 'alimony_ex', 'alimony_ex_2', 'alimony_children', 'alimony_children_2', 'study_allowance_parents', 'study_allowance_parents_2', 'allowence_family', 'allowence_family_2', 'dividend_stock_investment', 'dividend_stock_investment_2', 'interests', 'interests_2', 'none_sources', 'none_sources_2', 'interest_loans', 'interest_loans_2', 'support_gift_paid', 'support_gift_paid_2', 'taxable_income', 'taxable_income_2', 'net_income_household', 'net_income_household_2', 'financial_situation_grade', 'financial_situation_grade_2', 'difficulty_life_grade', 'difficulty_life_grade_2', 'financial_situation_category', 'financial_situation_category_2', 'household_expenditure', 'household_expenditure_2', 'big_purchase', 'big_purchase_2', 'financial_situation_future', 'financial_situation_future_2', 'no_arrears', 'no_arrears_2', 'rent_mortgage_arrears', 'rent_mortgage_arrears_2', 'general_utilities_arrear', 'general_utilities_arrear_2', 'other_arrears', 'other_arrears_2', 'months_arrears_rent', 'months_arrears_rent_2', 'months_arrears_general_utilities', 'months_arrears_general_utilities_2', 'GDP', 'inflation', 'unemployment', 'incumbent', 'partyvote']]\n",
    "test_set_val = test_set_val.loc[:, ['date', 'sex', 'age', 'satisfaction_individual', 'satisfaction_individual_2', 'satisfaction_national', 'satisfaction_national_2', 'income', 'income_2', 'entrepreneur_freelancer', 'entrepreneur_freelancer_2', 'entrepreneur_freelancer_alongside', 'entrepreneur_freelancer_alongside_2', 'one_person_business', 'one_person_business_2', 'company_owner', 'company_owner_2', 'partnership', 'partnership_2', 'partner_partnership', 'partner_partnership_2', 'private_limited_liability_company', 'private_limited_liability_company_2', 'other', 'other_2', 'none_work_situation', 'none_work_situation_2', 'zorgtoeslag', 'zorgtoeslag_2', 'Ziektewetuitkering', 'Ziektewetuitkering_2', 'ANW', 'ANW_2', 'nabestaandenpensioen', 'nabestaandenpensioen_2', 'bijstand', 'bijstand_2', 'bijstand_zelfstandigen', 'bijstand_zelfstandigen_2', 'IOAWIOAZ', 'IOAWIOAZ_2', 'WGA', 'WGA_2', 'invadility_pension', 'invadility_pension_2', 'kinderbijslag', 'kinderbijslag_2', 'none_benefit', 'none_benefit_2', 'income_realestate', 'income_realestate_2', 'student_grant', 'student_grant_2', 'student_loan', 'student_loan_2', 'alimony_ex', 'alimony_ex_2', 'alimony_children', 'alimony_children_2', 'study_allowance_parents', 'study_allowance_parents_2', 'allowence_family', 'allowence_family_2', 'dividend_stock_investment', 'dividend_stock_investment_2', 'interests', 'interests_2', 'none_sources', 'none_sources_2', 'interest_loans', 'interest_loans_2', 'support_gift_paid', 'support_gift_paid_2', 'taxable_income', 'taxable_income_2', 'net_income_household', 'net_income_household_2', 'financial_situation_grade', 'financial_situation_grade_2', 'difficulty_life_grade', 'difficulty_life_grade_2', 'financial_situation_category', 'financial_situation_category_2', 'household_expenditure', 'household_expenditure_2', 'big_purchase', 'big_purchase_2', 'financial_situation_future', 'financial_situation_future_2', 'no_arrears', 'no_arrears_2', 'rent_mortgage_arrears', 'rent_mortgage_arrears_2', 'general_utilities_arrear', 'general_utilities_arrear_2', 'other_arrears', 'other_arrears_2', 'months_arrears_rent', 'months_arrears_rent_2', 'months_arrears_general_utilities', 'months_arrears_general_utilities_2', 'GDP', 'inflation', 'unemployment', 'incumbent', 'partyvote']]"
   ]
  },
  {
   "cell_type": "markdown",
   "id": "b443ef5c",
   "metadata": {},
   "source": [
    "&nbsp;"
   ]
  },
  {
   "cell_type": "markdown",
   "id": "1272f051",
   "metadata": {},
   "source": [
    "&nbsp;"
   ]
  },
  {
   "cell_type": "markdown",
   "id": "20964e9b",
   "metadata": {},
   "source": [
    "# min-max scaling gdp, inflation and unemployment"
   ]
  },
  {
   "cell_type": "code",
   "execution_count": 55,
   "id": "0dc2d8c6",
   "metadata": {},
   "outputs": [],
   "source": [
    "train_set_val[['GDP', 'unemployment', 'inflation']] = scaler.fit_transform(train_set_val[['GDP', 'unemployment', 'inflation']])\n",
    "test_set_val[['GDP', 'unemployment', 'inflation']] = scaler.fit_transform(test_set_val[['GDP', 'unemployment', 'inflation']])"
   ]
  },
  {
   "cell_type": "code",
   "execution_count": 56,
   "id": "76f06aa7",
   "metadata": {},
   "outputs": [
    {
     "data": {
      "text/html": [
       "<div>\n",
       "<style scoped>\n",
       "    .dataframe tbody tr th:only-of-type {\n",
       "        vertical-align: middle;\n",
       "    }\n",
       "\n",
       "    .dataframe tbody tr th {\n",
       "        vertical-align: top;\n",
       "    }\n",
       "\n",
       "    .dataframe thead th {\n",
       "        text-align: right;\n",
       "    }\n",
       "</style>\n",
       "<table border=\"1\" class=\"dataframe\">\n",
       "  <thead>\n",
       "    <tr style=\"text-align: right;\">\n",
       "      <th></th>\n",
       "      <th>date</th>\n",
       "      <th>sex</th>\n",
       "      <th>age</th>\n",
       "      <th>satisfaction_individual</th>\n",
       "      <th>satisfaction_individual_2</th>\n",
       "      <th>satisfaction_national</th>\n",
       "      <th>satisfaction_national_2</th>\n",
       "      <th>income</th>\n",
       "      <th>income_2</th>\n",
       "      <th>entrepreneur_freelancer</th>\n",
       "      <th>...</th>\n",
       "      <th>other_arrears_2</th>\n",
       "      <th>months_arrears_rent</th>\n",
       "      <th>months_arrears_rent_2</th>\n",
       "      <th>months_arrears_general_utilities</th>\n",
       "      <th>months_arrears_general_utilities_2</th>\n",
       "      <th>GDP</th>\n",
       "      <th>inflation</th>\n",
       "      <th>unemployment</th>\n",
       "      <th>incumbent</th>\n",
       "      <th>partyvote</th>\n",
       "    </tr>\n",
       "  </thead>\n",
       "  <tbody>\n",
       "    <tr>\n",
       "      <th>3717</th>\n",
       "      <td>201906.0</td>\n",
       "      <td>1.0</td>\n",
       "      <td>63.0</td>\n",
       "      <td>7</td>\n",
       "      <td>3.0</td>\n",
       "      <td>7</td>\n",
       "      <td>3.0</td>\n",
       "      <td>0.0</td>\n",
       "      <td>3.0</td>\n",
       "      <td>0.0</td>\n",
       "      <td>...</td>\n",
       "      <td>3.0</td>\n",
       "      <td>0.0</td>\n",
       "      <td>3.0</td>\n",
       "      <td>0.0</td>\n",
       "      <td>3.0</td>\n",
       "      <td>1.000000</td>\n",
       "      <td>0.456731</td>\n",
       "      <td>0.30</td>\n",
       "      <td>0</td>\n",
       "      <td>CDA</td>\n",
       "    </tr>\n",
       "    <tr>\n",
       "      <th>3718</th>\n",
       "      <td>201906.0</td>\n",
       "      <td>1.0</td>\n",
       "      <td>56.0</td>\n",
       "      <td>7</td>\n",
       "      <td>3.0</td>\n",
       "      <td>8</td>\n",
       "      <td>3.0</td>\n",
       "      <td>1.0</td>\n",
       "      <td>3.0</td>\n",
       "      <td>0.0</td>\n",
       "      <td>...</td>\n",
       "      <td>3.0</td>\n",
       "      <td>0.0</td>\n",
       "      <td>3.0</td>\n",
       "      <td>0.0</td>\n",
       "      <td>3.0</td>\n",
       "      <td>1.000000</td>\n",
       "      <td>0.456731</td>\n",
       "      <td>0.30</td>\n",
       "      <td>0</td>\n",
       "      <td>SP</td>\n",
       "    </tr>\n",
       "    <tr>\n",
       "      <th>3719</th>\n",
       "      <td>201906.0</td>\n",
       "      <td>0.0</td>\n",
       "      <td>43.0</td>\n",
       "      <td>8</td>\n",
       "      <td>3.0</td>\n",
       "      <td>6</td>\n",
       "      <td>3.0</td>\n",
       "      <td>1.0</td>\n",
       "      <td>3.0</td>\n",
       "      <td>0.0</td>\n",
       "      <td>...</td>\n",
       "      <td>3.0</td>\n",
       "      <td>0.0</td>\n",
       "      <td>3.0</td>\n",
       "      <td>0.0</td>\n",
       "      <td>3.0</td>\n",
       "      <td>1.000000</td>\n",
       "      <td>0.456731</td>\n",
       "      <td>0.30</td>\n",
       "      <td>0</td>\n",
       "      <td>GL</td>\n",
       "    </tr>\n",
       "    <tr>\n",
       "      <th>3720</th>\n",
       "      <td>201906.0</td>\n",
       "      <td>0.0</td>\n",
       "      <td>72.0</td>\n",
       "      <td>3</td>\n",
       "      <td>3.0</td>\n",
       "      <td>5</td>\n",
       "      <td>3.0</td>\n",
       "      <td>0.0</td>\n",
       "      <td>3.0</td>\n",
       "      <td>0.0</td>\n",
       "      <td>...</td>\n",
       "      <td>3.0</td>\n",
       "      <td>0.0</td>\n",
       "      <td>3.0</td>\n",
       "      <td>0.0</td>\n",
       "      <td>3.0</td>\n",
       "      <td>1.000000</td>\n",
       "      <td>0.456731</td>\n",
       "      <td>0.30</td>\n",
       "      <td>1</td>\n",
       "      <td>VVD</td>\n",
       "    </tr>\n",
       "    <tr>\n",
       "      <th>3721</th>\n",
       "      <td>201907.0</td>\n",
       "      <td>1.0</td>\n",
       "      <td>44.0</td>\n",
       "      <td>8</td>\n",
       "      <td>3.0</td>\n",
       "      <td>8</td>\n",
       "      <td>3.0</td>\n",
       "      <td>1.0</td>\n",
       "      <td>3.0</td>\n",
       "      <td>0.0</td>\n",
       "      <td>...</td>\n",
       "      <td>3.0</td>\n",
       "      <td>0.0</td>\n",
       "      <td>3.0</td>\n",
       "      <td>0.0</td>\n",
       "      <td>3.0</td>\n",
       "      <td>1.000000</td>\n",
       "      <td>0.456731</td>\n",
       "      <td>0.30</td>\n",
       "      <td>0</td>\n",
       "      <td>other</td>\n",
       "    </tr>\n",
       "    <tr>\n",
       "      <th>...</th>\n",
       "      <td>...</td>\n",
       "      <td>...</td>\n",
       "      <td>...</td>\n",
       "      <td>...</td>\n",
       "      <td>...</td>\n",
       "      <td>...</td>\n",
       "      <td>...</td>\n",
       "      <td>...</td>\n",
       "      <td>...</td>\n",
       "      <td>...</td>\n",
       "      <td>...</td>\n",
       "      <td>...</td>\n",
       "      <td>...</td>\n",
       "      <td>...</td>\n",
       "      <td>...</td>\n",
       "      <td>...</td>\n",
       "      <td>...</td>\n",
       "      <td>...</td>\n",
       "      <td>...</td>\n",
       "      <td>...</td>\n",
       "      <td>...</td>\n",
       "    </tr>\n",
       "    <tr>\n",
       "      <th>18912</th>\n",
       "      <td>200806.0</td>\n",
       "      <td>0.0</td>\n",
       "      <td>44.0</td>\n",
       "      <td>7</td>\n",
       "      <td>3.0</td>\n",
       "      <td>7</td>\n",
       "      <td>3.0</td>\n",
       "      <td>1.0</td>\n",
       "      <td>3.0</td>\n",
       "      <td>0.0</td>\n",
       "      <td>...</td>\n",
       "      <td>3.0</td>\n",
       "      <td>0.0</td>\n",
       "      <td>3.0</td>\n",
       "      <td>0.0</td>\n",
       "      <td>3.0</td>\n",
       "      <td>0.918586</td>\n",
       "      <td>0.519231</td>\n",
       "      <td>0.75</td>\n",
       "      <td>0</td>\n",
       "      <td>SP</td>\n",
       "    </tr>\n",
       "    <tr>\n",
       "      <th>18913</th>\n",
       "      <td>200806.0</td>\n",
       "      <td>1.0</td>\n",
       "      <td>57.0</td>\n",
       "      <td>7</td>\n",
       "      <td>3.0</td>\n",
       "      <td>6</td>\n",
       "      <td>3.0</td>\n",
       "      <td>1.0</td>\n",
       "      <td>3.0</td>\n",
       "      <td>0.0</td>\n",
       "      <td>...</td>\n",
       "      <td>3.0</td>\n",
       "      <td>0.0</td>\n",
       "      <td>3.0</td>\n",
       "      <td>0.0</td>\n",
       "      <td>3.0</td>\n",
       "      <td>0.918586</td>\n",
       "      <td>0.519231</td>\n",
       "      <td>0.75</td>\n",
       "      <td>1</td>\n",
       "      <td>CDA</td>\n",
       "    </tr>\n",
       "    <tr>\n",
       "      <th>18914</th>\n",
       "      <td>200806.0</td>\n",
       "      <td>1.0</td>\n",
       "      <td>45.0</td>\n",
       "      <td>7</td>\n",
       "      <td>3.0</td>\n",
       "      <td>5</td>\n",
       "      <td>3.0</td>\n",
       "      <td>1.0</td>\n",
       "      <td>3.0</td>\n",
       "      <td>0.0</td>\n",
       "      <td>...</td>\n",
       "      <td>3.0</td>\n",
       "      <td>0.0</td>\n",
       "      <td>3.0</td>\n",
       "      <td>0.0</td>\n",
       "      <td>3.0</td>\n",
       "      <td>0.918586</td>\n",
       "      <td>0.519231</td>\n",
       "      <td>0.75</td>\n",
       "      <td>0</td>\n",
       "      <td>SP</td>\n",
       "    </tr>\n",
       "    <tr>\n",
       "      <th>18915</th>\n",
       "      <td>200806.0</td>\n",
       "      <td>0.0</td>\n",
       "      <td>48.0</td>\n",
       "      <td>6</td>\n",
       "      <td>3.0</td>\n",
       "      <td>5</td>\n",
       "      <td>3.0</td>\n",
       "      <td>1.0</td>\n",
       "      <td>3.0</td>\n",
       "      <td>1.0</td>\n",
       "      <td>...</td>\n",
       "      <td>3.0</td>\n",
       "      <td>0.0</td>\n",
       "      <td>3.0</td>\n",
       "      <td>0.0</td>\n",
       "      <td>3.0</td>\n",
       "      <td>0.918586</td>\n",
       "      <td>0.519231</td>\n",
       "      <td>0.75</td>\n",
       "      <td>0</td>\n",
       "      <td>SP</td>\n",
       "    </tr>\n",
       "    <tr>\n",
       "      <th>18916</th>\n",
       "      <td>200806.0</td>\n",
       "      <td>0.0</td>\n",
       "      <td>57.0</td>\n",
       "      <td>7</td>\n",
       "      <td>3.0</td>\n",
       "      <td>7</td>\n",
       "      <td>3.0</td>\n",
       "      <td>1.0</td>\n",
       "      <td>3.0</td>\n",
       "      <td>0.0</td>\n",
       "      <td>...</td>\n",
       "      <td>3.0</td>\n",
       "      <td>0.0</td>\n",
       "      <td>3.0</td>\n",
       "      <td>0.0</td>\n",
       "      <td>3.0</td>\n",
       "      <td>0.918586</td>\n",
       "      <td>0.519231</td>\n",
       "      <td>0.75</td>\n",
       "      <td>1</td>\n",
       "      <td>CDA</td>\n",
       "    </tr>\n",
       "  </tbody>\n",
       "</table>\n",
       "<p>15200 rows × 106 columns</p>\n",
       "</div>"
      ],
      "text/plain": [
       "           date  sex   age  satisfaction_individual satisfaction_individual_2  \\\n",
       "3717   201906.0  1.0  63.0                        7                       3.0   \n",
       "3718   201906.0  1.0  56.0                        7                       3.0   \n",
       "3719   201906.0  0.0  43.0                        8                       3.0   \n",
       "3720   201906.0  0.0  72.0                        3                       3.0   \n",
       "3721   201907.0  1.0  44.0                        8                       3.0   \n",
       "...         ...  ...   ...                      ...                       ...   \n",
       "18912  200806.0  0.0  44.0                        7                       3.0   \n",
       "18913  200806.0  1.0  57.0                        7                       3.0   \n",
       "18914  200806.0  1.0  45.0                        7                       3.0   \n",
       "18915  200806.0  0.0  48.0                        6                       3.0   \n",
       "18916  200806.0  0.0  57.0                        7                       3.0   \n",
       "\n",
       "       satisfaction_national satisfaction_national_2 income income_2  \\\n",
       "3717                       7                     3.0    0.0      3.0   \n",
       "3718                       8                     3.0    1.0      3.0   \n",
       "3719                       6                     3.0    1.0      3.0   \n",
       "3720                       5                     3.0    0.0      3.0   \n",
       "3721                       8                     3.0    1.0      3.0   \n",
       "...                      ...                     ...    ...      ...   \n",
       "18912                      7                     3.0    1.0      3.0   \n",
       "18913                      6                     3.0    1.0      3.0   \n",
       "18914                      5                     3.0    1.0      3.0   \n",
       "18915                      5                     3.0    1.0      3.0   \n",
       "18916                      7                     3.0    1.0      3.0   \n",
       "\n",
       "      entrepreneur_freelancer  ... other_arrears_2 months_arrears_rent  \\\n",
       "3717                      0.0  ...             3.0                 0.0   \n",
       "3718                      0.0  ...             3.0                 0.0   \n",
       "3719                      0.0  ...             3.0                 0.0   \n",
       "3720                      0.0  ...             3.0                 0.0   \n",
       "3721                      0.0  ...             3.0                 0.0   \n",
       "...                       ...  ...             ...                 ...   \n",
       "18912                     0.0  ...             3.0                 0.0   \n",
       "18913                     0.0  ...             3.0                 0.0   \n",
       "18914                     0.0  ...             3.0                 0.0   \n",
       "18915                     1.0  ...             3.0                 0.0   \n",
       "18916                     0.0  ...             3.0                 0.0   \n",
       "\n",
       "      months_arrears_rent_2 months_arrears_general_utilities  \\\n",
       "3717                    3.0                              0.0   \n",
       "3718                    3.0                              0.0   \n",
       "3719                    3.0                              0.0   \n",
       "3720                    3.0                              0.0   \n",
       "3721                    3.0                              0.0   \n",
       "...                     ...                              ...   \n",
       "18912                   3.0                              0.0   \n",
       "18913                   3.0                              0.0   \n",
       "18914                   3.0                              0.0   \n",
       "18915                   3.0                              0.0   \n",
       "18916                   3.0                              0.0   \n",
       "\n",
       "      months_arrears_general_utilities_2       GDP inflation unemployment  \\\n",
       "3717                                 3.0  1.000000  0.456731         0.30   \n",
       "3718                                 3.0  1.000000  0.456731         0.30   \n",
       "3719                                 3.0  1.000000  0.456731         0.30   \n",
       "3720                                 3.0  1.000000  0.456731         0.30   \n",
       "3721                                 3.0  1.000000  0.456731         0.30   \n",
       "...                                  ...       ...       ...          ...   \n",
       "18912                                3.0  0.918586  0.519231         0.75   \n",
       "18913                                3.0  0.918586  0.519231         0.75   \n",
       "18914                                3.0  0.918586  0.519231         0.75   \n",
       "18915                                3.0  0.918586  0.519231         0.75   \n",
       "18916                                3.0  0.918586  0.519231         0.75   \n",
       "\n",
       "      incumbent partyvote  \n",
       "3717          0       CDA  \n",
       "3718          0        SP  \n",
       "3719          0        GL  \n",
       "3720          1       VVD  \n",
       "3721          0     other  \n",
       "...         ...       ...  \n",
       "18912         0        SP  \n",
       "18913         1       CDA  \n",
       "18914         0        SP  \n",
       "18915         0        SP  \n",
       "18916         1       CDA  \n",
       "\n",
       "[15200 rows x 106 columns]"
      ]
     },
     "execution_count": 56,
     "metadata": {},
     "output_type": "execute_result"
    }
   ],
   "source": [
    "train_set_val"
   ]
  },
  {
   "cell_type": "markdown",
   "id": "f9a044dc",
   "metadata": {},
   "source": [
    "&nbsp;"
   ]
  },
  {
   "cell_type": "markdown",
   "id": "216f6a45",
   "metadata": {},
   "source": [
    "&nbsp;"
   ]
  },
  {
   "cell_type": "markdown",
   "id": "fef63db3",
   "metadata": {},
   "source": [
    "# Create dataframes with progressively dropped respondents with invalid answers"
   ]
  },
  {
   "cell_type": "code",
   "execution_count": 57,
   "id": "d0fcf29e",
   "metadata": {},
   "outputs": [],
   "source": [
    "duplicate_columns = ['satisfaction_individual_2', 'satisfaction_national_2', 'income_2', \n",
    "                     'entrepreneur_freelancer_2', \n",
    "                     'entrepreneur_freelancer_alongside_2', 'one_person_business_2', \n",
    "                     'company_owner_2', 'partnership_2', 'partner_partnership_2', \n",
    "                     'private_limited_liability_company_2', 'other_2', 'none_work_situation_2', \n",
    "                     'zorgtoeslag_2', 'Ziektewetuitkering_2', \n",
    "                     'ANW_2', 'nabestaandenpensioen_2', 'bijstand_2', \n",
    "                     'bijstand_zelfstandigen_2', 'IOAWIOAZ_2', 'WGA_2', 'invadility_pension_2', \n",
    "                     'kinderbijslag_2', 'none_benefit_2', 'income_realestate_2', 'student_grant_2', \n",
    "                     'student_loan_2', 'alimony_ex_2',  \n",
    "                     'alimony_children_2', 'study_allowance_parents_2', \n",
    "                     'allowence_family_2', 'dividend_stock_investment_2', \n",
    "                     'interests_2', \n",
    "                     'none_sources_2', 'interest_loans_2',  \n",
    "                     'support_gift_paid_2', \n",
    "                     'taxable_income_2', 'net_income_household_2', 'financial_situation_grade_2', \n",
    "                     'difficulty_life_grade_2', 'financial_situation_category_2', 'household_expenditure_2', \n",
    "                     'big_purchase_2', 'financial_situation_future_2', 'no_arrears_2', \n",
    "                     'rent_mortgage_arrears_2', 'general_utilities_arrear_2', \n",
    "                     'other_arrears_2', 'months_arrears_rent_2', \n",
    "                     'months_arrears_general_utilities_2']"
   ]
  },
  {
   "cell_type": "markdown",
   "id": "f1ecaadc",
   "metadata": {},
   "source": [
    "&nbsp;"
   ]
  },
  {
   "cell_type": "markdown",
   "id": "babb77be",
   "metadata": {},
   "source": [
    "__create first subsets (individual)__"
   ]
  },
  {
   "cell_type": "code",
   "execution_count": 58,
   "id": "0d023ab6",
   "metadata": {},
   "outputs": [],
   "source": [
    "subset1_ind = train_set.loc[train_set['satisfaction_individual_2'] != 2]"
   ]
  },
  {
   "cell_type": "code",
   "execution_count": 59,
   "id": "f69bfc97",
   "metadata": {},
   "outputs": [],
   "source": [
    "for x in duplicate_columns:\n",
    "    subset1_ind = subset1_ind.loc[subset1_ind[x] != 2]"
   ]
  },
  {
   "cell_type": "code",
   "execution_count": 60,
   "id": "9e6f79a3",
   "metadata": {},
   "outputs": [
    {
     "data": {
      "text/plain": [
       "(13870, 102)"
      ]
     },
     "execution_count": 60,
     "metadata": {},
     "output_type": "execute_result"
    }
   ],
   "source": [
    "subset1_ind.shape"
   ]
  },
  {
   "cell_type": "markdown",
   "id": "68727f6f",
   "metadata": {},
   "source": [
    "&nbsp;"
   ]
  },
  {
   "cell_type": "markdown",
   "id": "31d26b19",
   "metadata": {},
   "source": [
    "__create second subsets (individual)__"
   ]
  },
  {
   "cell_type": "code",
   "execution_count": 61,
   "id": "c50192cb",
   "metadata": {},
   "outputs": [],
   "source": [
    "subset2_ind = subset1_ind.loc[subset1_ind['satisfaction_individual_2'] != 1]"
   ]
  },
  {
   "cell_type": "code",
   "execution_count": 62,
   "id": "95b562ed",
   "metadata": {},
   "outputs": [],
   "source": [
    "for x in duplicate_columns:\n",
    "    subset2_ind = subset2_ind.loc[subset2_ind[x] != 1]"
   ]
  },
  {
   "cell_type": "code",
   "execution_count": 63,
   "id": "e2402234",
   "metadata": {},
   "outputs": [
    {
     "data": {
      "text/plain": [
       "(5800, 102)"
      ]
     },
     "execution_count": 63,
     "metadata": {},
     "output_type": "execute_result"
    }
   ],
   "source": [
    "subset2_ind.shape"
   ]
  },
  {
   "cell_type": "markdown",
   "id": "35f75a34",
   "metadata": {},
   "source": [
    "&nbsp;"
   ]
  },
  {
   "cell_type": "markdown",
   "id": "83977305",
   "metadata": {},
   "source": [
    "__create third subsets (individual)__"
   ]
  },
  {
   "cell_type": "code",
   "execution_count": 64,
   "id": "6de223ab",
   "metadata": {},
   "outputs": [],
   "source": [
    "subset3_ind = subset2_ind.loc[subset2_ind['satisfaction_individual_2'] != 0]"
   ]
  },
  {
   "cell_type": "code",
   "execution_count": 65,
   "id": "17676adf",
   "metadata": {},
   "outputs": [],
   "source": [
    "for x in duplicate_columns:\n",
    "    subset3_ind = subset3_ind.loc[subset3_ind[x] != 0]"
   ]
  },
  {
   "cell_type": "code",
   "execution_count": 66,
   "id": "efd94cff",
   "metadata": {},
   "outputs": [
    {
     "data": {
      "text/plain": [
       "(4955, 102)"
      ]
     },
     "execution_count": 66,
     "metadata": {},
     "output_type": "execute_result"
    }
   ],
   "source": [
    "subset3_ind.shape"
   ]
  },
  {
   "cell_type": "markdown",
   "id": "9cc75a41",
   "metadata": {},
   "source": [
    "&nbsp;"
   ]
  },
  {
   "cell_type": "markdown",
   "id": "944a1fb7",
   "metadata": {},
   "source": [
    "__create first subsets (valence)__"
   ]
  },
  {
   "cell_type": "code",
   "execution_count": 67,
   "id": "d157c916",
   "metadata": {},
   "outputs": [],
   "source": [
    "subset1_val = train_set_val.loc[train_set_val['satisfaction_individual_2'] != 2]"
   ]
  },
  {
   "cell_type": "code",
   "execution_count": 68,
   "id": "abe9973f",
   "metadata": {},
   "outputs": [],
   "source": [
    "for x in duplicate_columns:\n",
    "    subset1_val = subset1_val.loc[subset1_val[x] != 2]"
   ]
  },
  {
   "cell_type": "code",
   "execution_count": 69,
   "id": "bda3bfd0",
   "metadata": {},
   "outputs": [
    {
     "data": {
      "text/plain": [
       "(13870, 106)"
      ]
     },
     "execution_count": 69,
     "metadata": {},
     "output_type": "execute_result"
    }
   ],
   "source": [
    "subset1_val.shape"
   ]
  },
  {
   "cell_type": "markdown",
   "id": "209a0b3a",
   "metadata": {},
   "source": [
    "&nbsp;"
   ]
  },
  {
   "cell_type": "markdown",
   "id": "1515ee29",
   "metadata": {},
   "source": [
    "__create second subsets (valence)__"
   ]
  },
  {
   "cell_type": "code",
   "execution_count": 70,
   "id": "2c7b842f",
   "metadata": {},
   "outputs": [],
   "source": [
    "subset2_val = subset1_val.loc[subset1_val['satisfaction_individual_2'] != 1]"
   ]
  },
  {
   "cell_type": "code",
   "execution_count": 71,
   "id": "bb60d43c",
   "metadata": {},
   "outputs": [],
   "source": [
    "for x in duplicate_columns:\n",
    "    subset2_val = subset2_val.loc[subset2_val[x] != 1]"
   ]
  },
  {
   "cell_type": "code",
   "execution_count": 72,
   "id": "213108ea",
   "metadata": {},
   "outputs": [
    {
     "data": {
      "text/plain": [
       "(5800, 106)"
      ]
     },
     "execution_count": 72,
     "metadata": {},
     "output_type": "execute_result"
    }
   ],
   "source": [
    "subset2_val.shape"
   ]
  },
  {
   "cell_type": "markdown",
   "id": "86073a4f",
   "metadata": {},
   "source": [
    "&nbsp;"
   ]
  },
  {
   "cell_type": "markdown",
   "id": "7ff64ca5",
   "metadata": {},
   "source": [
    "__create third subsets (valence)__"
   ]
  },
  {
   "cell_type": "code",
   "execution_count": 73,
   "id": "910d597a",
   "metadata": {},
   "outputs": [],
   "source": [
    "subset3_val = subset2_val.loc[subset2_val['satisfaction_individual_2'] != 0]"
   ]
  },
  {
   "cell_type": "code",
   "execution_count": 74,
   "id": "f01f167d",
   "metadata": {},
   "outputs": [],
   "source": [
    "for x in duplicate_columns:\n",
    "    subset3_val = subset3_val.loc[subset3_val[x] != 0]"
   ]
  },
  {
   "cell_type": "code",
   "execution_count": 75,
   "id": "9eaee5dd",
   "metadata": {},
   "outputs": [
    {
     "data": {
      "text/plain": [
       "(4955, 106)"
      ]
     },
     "execution_count": 75,
     "metadata": {},
     "output_type": "execute_result"
    }
   ],
   "source": [
    "subset3_val.shape"
   ]
  },
  {
   "cell_type": "markdown",
   "id": "b34c929a",
   "metadata": {},
   "source": [
    "&nbsp;"
   ]
  },
  {
   "cell_type": "markdown",
   "id": "6ab93130",
   "metadata": {},
   "source": [
    "&nbsp;"
   ]
  },
  {
   "cell_type": "markdown",
   "id": "af8ad067",
   "metadata": {},
   "source": [
    "# Save all dataframes for algorithms notebook"
   ]
  },
  {
   "cell_type": "code",
   "execution_count": 76,
   "id": "d4599f54",
   "metadata": {},
   "outputs": [],
   "source": [
    "train_set.to_csv('train_set_ind.csv')"
   ]
  },
  {
   "cell_type": "code",
   "execution_count": 77,
   "id": "94f06cac",
   "metadata": {},
   "outputs": [],
   "source": [
    "test_set.to_csv('test_set_ind.csv')"
   ]
  },
  {
   "cell_type": "code",
   "execution_count": 78,
   "id": "a6cb2a84",
   "metadata": {},
   "outputs": [],
   "source": [
    "train_set_val.to_csv('train_set_val.csv')"
   ]
  },
  {
   "cell_type": "code",
   "execution_count": 79,
   "id": "c3cc6b50",
   "metadata": {},
   "outputs": [],
   "source": [
    "test_set_val.to_csv('test_set_val.csv')"
   ]
  },
  {
   "cell_type": "code",
   "execution_count": 80,
   "id": "b4e88bb8",
   "metadata": {},
   "outputs": [],
   "source": [
    "subset1_ind.to_csv('subset1_ind.csv')"
   ]
  },
  {
   "cell_type": "code",
   "execution_count": 81,
   "id": "de454373",
   "metadata": {},
   "outputs": [],
   "source": [
    "subset2_ind.to_csv('subset2_ind.csv')"
   ]
  },
  {
   "cell_type": "code",
   "execution_count": 82,
   "id": "57da9379",
   "metadata": {},
   "outputs": [],
   "source": [
    "subset3_ind.to_csv('subset3_ind.csv')"
   ]
  },
  {
   "cell_type": "code",
   "execution_count": 83,
   "id": "99d9df14",
   "metadata": {},
   "outputs": [],
   "source": [
    "subset1_val.to_csv('subset1_val.csv')"
   ]
  },
  {
   "cell_type": "code",
   "execution_count": 84,
   "id": "19aaad5a",
   "metadata": {},
   "outputs": [],
   "source": [
    "subset2_val.to_csv('subset2_val.csv')"
   ]
  },
  {
   "cell_type": "code",
   "execution_count": 85,
   "id": "d68915c7",
   "metadata": {},
   "outputs": [],
   "source": [
    "subset3_val.to_csv('subset3_val.csv')"
   ]
  }
 ],
 "metadata": {
  "kernelspec": {
   "display_name": "Python 3 (ipykernel)",
   "language": "python",
   "name": "python3"
  },
  "language_info": {
   "codemirror_mode": {
    "name": "ipython",
    "version": 3
   },
   "file_extension": ".py",
   "mimetype": "text/x-python",
   "name": "python",
   "nbconvert_exporter": "python",
   "pygments_lexer": "ipython3",
   "version": "3.8.8"
  }
 },
 "nbformat": 4,
 "nbformat_minor": 5
}
